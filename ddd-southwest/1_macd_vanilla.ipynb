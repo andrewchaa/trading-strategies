{
 "cells": [
  {
   "cell_type": "code",
   "execution_count": 7,
   "metadata": {},
   "outputs": [],
   "source": [
    "import yfinance as yf\n",
    "import datetime\n",
    "from matplotlib import pyplot as plt\n",
    "import numpy as np\n",
    "%matplotlib inline"
   ]
  },
  {
   "cell_type": "code",
   "execution_count": 2,
   "metadata": {},
   "outputs": [],
   "source": [
    "START = datetime.datetime(2000, 1, 1)\n",
    "END = datetime.datetime(2020, 1, 1)\n",
    "YEARS = (END - START).days / 365.25"
   ]
  },
  {
   "cell_type": "code",
   "execution_count": 3,
   "metadata": {},
   "outputs": [],
   "source": [
    "STARTING_BALANCE = 10000"
   ]
  },
  {
   "cell_type": "code",
   "execution_count": 24,
   "metadata": {},
   "outputs": [
    {
     "data": {
      "text/html": [
       "<div>\n",
       "<style scoped>\n",
       "    .dataframe tbody tr th:only-of-type {\n",
       "        vertical-align: middle;\n",
       "    }\n",
       "\n",
       "    .dataframe tbody tr th {\n",
       "        vertical-align: top;\n",
       "    }\n",
       "\n",
       "    .dataframe thead th {\n",
       "        text-align: right;\n",
       "    }\n",
       "</style>\n",
       "<table border=\"1\" class=\"dataframe\">\n",
       "  <thead>\n",
       "    <tr style=\"text-align: right;\">\n",
       "      <th></th>\n",
       "      <th>Open</th>\n",
       "      <th>High</th>\n",
       "      <th>Low</th>\n",
       "      <th>Close</th>\n",
       "      <th>Volume</th>\n",
       "      <th>Dividends</th>\n",
       "      <th>Stock Splits</th>\n",
       "    </tr>\n",
       "    <tr>\n",
       "      <th>Date</th>\n",
       "      <th></th>\n",
       "      <th></th>\n",
       "      <th></th>\n",
       "      <th></th>\n",
       "      <th></th>\n",
       "      <th></th>\n",
       "      <th></th>\n",
       "    </tr>\n",
       "  </thead>\n",
       "  <tbody>\n",
       "    <tr>\n",
       "      <th>2019-12-24 00:00:00-05:00</th>\n",
       "      <td>262.011868</td>\n",
       "      <td>263.178114</td>\n",
       "      <td>261.250422</td>\n",
       "      <td>262.648010</td>\n",
       "      <td>363000</td>\n",
       "      <td>0.0</td>\n",
       "      <td>0.0</td>\n",
       "    </tr>\n",
       "    <tr>\n",
       "      <th>2019-12-26 00:00:00-05:00</th>\n",
       "      <td>263.447983</td>\n",
       "      <td>264.411828</td>\n",
       "      <td>262.580527</td>\n",
       "      <td>263.669678</td>\n",
       "      <td>450300</td>\n",
       "      <td>0.0</td>\n",
       "      <td>0.0</td>\n",
       "    </tr>\n",
       "    <tr>\n",
       "      <th>2019-12-27 00:00:00-05:00</th>\n",
       "      <td>264.517862</td>\n",
       "      <td>264.922661</td>\n",
       "      <td>262.541990</td>\n",
       "      <td>264.373291</td>\n",
       "      <td>688800</td>\n",
       "      <td>0.0</td>\n",
       "      <td>0.0</td>\n",
       "    </tr>\n",
       "    <tr>\n",
       "      <th>2019-12-30 00:00:00-05:00</th>\n",
       "      <td>264.460032</td>\n",
       "      <td>264.807002</td>\n",
       "      <td>261.211876</td>\n",
       "      <td>262.108246</td>\n",
       "      <td>539000</td>\n",
       "      <td>0.0</td>\n",
       "      <td>0.0</td>\n",
       "    </tr>\n",
       "    <tr>\n",
       "      <th>2019-12-31 00:00:00-05:00</th>\n",
       "      <td>261.693738</td>\n",
       "      <td>263.419001</td>\n",
       "      <td>261.057597</td>\n",
       "      <td>263.178040</td>\n",
       "      <td>638900</td>\n",
       "      <td>0.0</td>\n",
       "      <td>0.0</td>\n",
       "    </tr>\n",
       "  </tbody>\n",
       "</table>\n",
       "</div>"
      ],
      "text/plain": [
       "                                 Open        High         Low       Close  \\\n",
       "Date                                                                        \n",
       "2019-12-24 00:00:00-05:00  262.011868  263.178114  261.250422  262.648010   \n",
       "2019-12-26 00:00:00-05:00  263.447983  264.411828  262.580527  263.669678   \n",
       "2019-12-27 00:00:00-05:00  264.517862  264.922661  262.541990  264.373291   \n",
       "2019-12-30 00:00:00-05:00  264.460032  264.807002  261.211876  262.108246   \n",
       "2019-12-31 00:00:00-05:00  261.693738  263.419001  261.057597  263.178040   \n",
       "\n",
       "                           Volume  Dividends  Stock Splits  \n",
       "Date                                                        \n",
       "2019-12-24 00:00:00-05:00  363000        0.0           0.0  \n",
       "2019-12-26 00:00:00-05:00  450300        0.0           0.0  \n",
       "2019-12-27 00:00:00-05:00  688800        0.0           0.0  \n",
       "2019-12-30 00:00:00-05:00  539000        0.0           0.0  \n",
       "2019-12-31 00:00:00-05:00  638900        0.0           0.0  "
      ]
     },
     "execution_count": 24,
     "metadata": {},
     "output_type": "execute_result"
    }
   ],
   "source": [
    "tickerData = yf.Ticker('SPGI')\n",
    "price = tickerData.history(period='1d', start=START, end=END)\n",
    "# price = pdr.get_data_yahoo('^SPX', start=START, end=END)\n",
    "price.tail()"
   ]
  },
  {
   "cell_type": "code",
   "execution_count": 25,
   "metadata": {},
   "outputs": [
    {
     "data": {
      "text/html": [
       "<div>\n",
       "<style scoped>\n",
       "    .dataframe tbody tr th:only-of-type {\n",
       "        vertical-align: middle;\n",
       "    }\n",
       "\n",
       "    .dataframe tbody tr th {\n",
       "        vertical-align: top;\n",
       "    }\n",
       "\n",
       "    .dataframe thead th {\n",
       "        text-align: right;\n",
       "    }\n",
       "</style>\n",
       "<table border=\"1\" class=\"dataframe\">\n",
       "  <thead>\n",
       "    <tr style=\"text-align: right;\">\n",
       "      <th></th>\n",
       "      <th>Close</th>\n",
       "    </tr>\n",
       "    <tr>\n",
       "      <th>Date</th>\n",
       "      <th></th>\n",
       "    </tr>\n",
       "  </thead>\n",
       "  <tbody>\n",
       "    <tr>\n",
       "      <th>2019-12-24 00:00:00-05:00</th>\n",
       "      <td>262.648010</td>\n",
       "    </tr>\n",
       "    <tr>\n",
       "      <th>2019-12-26 00:00:00-05:00</th>\n",
       "      <td>263.669678</td>\n",
       "    </tr>\n",
       "    <tr>\n",
       "      <th>2019-12-27 00:00:00-05:00</th>\n",
       "      <td>264.373291</td>\n",
       "    </tr>\n",
       "    <tr>\n",
       "      <th>2019-12-30 00:00:00-05:00</th>\n",
       "      <td>262.108246</td>\n",
       "    </tr>\n",
       "    <tr>\n",
       "      <th>2019-12-31 00:00:00-05:00</th>\n",
       "      <td>263.178040</td>\n",
       "    </tr>\n",
       "  </tbody>\n",
       "</table>\n",
       "</div>"
      ],
      "text/plain": [
       "                                Close\n",
       "Date                                 \n",
       "2019-12-24 00:00:00-05:00  262.648010\n",
       "2019-12-26 00:00:00-05:00  263.669678\n",
       "2019-12-27 00:00:00-05:00  264.373291\n",
       "2019-12-30 00:00:00-05:00  262.108246\n",
       "2019-12-31 00:00:00-05:00  263.178040"
      ]
     },
     "execution_count": 25,
     "metadata": {},
     "output_type": "execute_result"
    }
   ],
   "source": [
    "price = price.drop(['Open', 'High', 'Low', 'Volume', 'Dividends', 'Stock Splits'], axis=1)\n",
    "price.tail()"
   ]
  },
  {
   "cell_type": "code",
   "execution_count": 31,
   "metadata": {},
   "outputs": [
    {
     "data": {
      "image/png": "[encoded data removed]",
      "text/plain": [
       "<Figure size 640x480 with 1 Axes>"
      ]
     },
     "metadata": {},
     "output_type": "display_data"
    }
   ],
   "source": [
    "# print(plt.style.available)\n",
    "plt.style.use('seaborn-v0_8-muted')\n",
    "plt.plot(price.Close)\n",
    "plt.show()"
   ]
  },
  {
   "cell_type": "code",
   "execution_count": 34,
   "metadata": {},
   "outputs": [
    {
     "data": {
      "text/html": [
       "<div>\n",
       "<style scoped>\n",
       "    .dataframe tbody tr th:only-of-type {\n",
       "        vertical-align: middle;\n",
       "    }\n",
       "\n",
       "    .dataframe tbody tr th {\n",
       "        vertical-align: top;\n",
       "    }\n",
       "\n",
       "    .dataframe thead th {\n",
       "        text-align: right;\n",
       "    }\n",
       "</style>\n",
       "<table border=\"1\" class=\"dataframe\">\n",
       "  <thead>\n",
       "    <tr style=\"text-align: right;\">\n",
       "      <th></th>\n",
       "      <th>Close</th>\n",
       "      <th>Return</th>\n",
       "      <th>Bench_Bal</th>\n",
       "    </tr>\n",
       "    <tr>\n",
       "      <th>Date</th>\n",
       "      <th></th>\n",
       "      <th></th>\n",
       "      <th></th>\n",
       "    </tr>\n",
       "  </thead>\n",
       "  <tbody>\n",
       "    <tr>\n",
       "      <th>2000-01-03 00:00:00-05:00</th>\n",
       "      <td>18.910179</td>\n",
       "      <td>1.000000</td>\n",
       "      <td>10000.000000</td>\n",
       "    </tr>\n",
       "    <tr>\n",
       "      <th>2000-01-04 00:00:00-05:00</th>\n",
       "      <td>18.040508</td>\n",
       "      <td>0.954010</td>\n",
       "      <td>9540.104374</td>\n",
       "    </tr>\n",
       "    <tr>\n",
       "      <th>2000-01-05 00:00:00-05:00</th>\n",
       "      <td>17.797812</td>\n",
       "      <td>0.986547</td>\n",
       "      <td>9411.762511</td>\n",
       "    </tr>\n",
       "    <tr>\n",
       "      <th>2000-01-06 00:00:00-05:00</th>\n",
       "      <td>17.312418</td>\n",
       "      <td>0.972727</td>\n",
       "      <td>9155.078785</td>\n",
       "    </tr>\n",
       "    <tr>\n",
       "      <th>2000-01-07 00:00:00-05:00</th>\n",
       "      <td>17.474216</td>\n",
       "      <td>1.009346</td>\n",
       "      <td>9240.640363</td>\n",
       "    </tr>\n",
       "    <tr>\n",
       "      <th>...</th>\n",
       "      <td>...</td>\n",
       "      <td>...</td>\n",
       "      <td>...</td>\n",
       "    </tr>\n",
       "    <tr>\n",
       "      <th>2019-12-24 00:00:00-05:00</th>\n",
       "      <td>262.648010</td>\n",
       "      <td>1.004164</td>\n",
       "      <td>138892.396701</td>\n",
       "    </tr>\n",
       "    <tr>\n",
       "      <th>2019-12-26 00:00:00-05:00</th>\n",
       "      <td>263.669678</td>\n",
       "      <td>1.003890</td>\n",
       "      <td>139432.670525</td>\n",
       "    </tr>\n",
       "    <tr>\n",
       "      <th>2019-12-27 00:00:00-05:00</th>\n",
       "      <td>264.373291</td>\n",
       "      <td>1.002669</td>\n",
       "      <td>139804.752289</td>\n",
       "    </tr>\n",
       "    <tr>\n",
       "      <th>2019-12-30 00:00:00-05:00</th>\n",
       "      <td>262.108246</td>\n",
       "      <td>0.991432</td>\n",
       "      <td>138606.960798</td>\n",
       "    </tr>\n",
       "    <tr>\n",
       "      <th>2019-12-31 00:00:00-05:00</th>\n",
       "      <td>263.178040</td>\n",
       "      <td>1.004081</td>\n",
       "      <td>139172.684525</td>\n",
       "    </tr>\n",
       "  </tbody>\n",
       "</table>\n",
       "<p>5031 rows × 3 columns</p>\n",
       "</div>"
      ],
      "text/plain": [
       "                                Close    Return      Bench_Bal\n",
       "Date                                                          \n",
       "2000-01-03 00:00:00-05:00   18.910179  1.000000   10000.000000\n",
       "2000-01-04 00:00:00-05:00   18.040508  0.954010    9540.104374\n",
       "2000-01-05 00:00:00-05:00   17.797812  0.986547    9411.762511\n",
       "2000-01-06 00:00:00-05:00   17.312418  0.972727    9155.078785\n",
       "2000-01-07 00:00:00-05:00   17.474216  1.009346    9240.640363\n",
       "...                               ...       ...            ...\n",
       "2019-12-24 00:00:00-05:00  262.648010  1.004164  138892.396701\n",
       "2019-12-26 00:00:00-05:00  263.669678  1.003890  139432.670525\n",
       "2019-12-27 00:00:00-05:00  264.373291  1.002669  139804.752289\n",
       "2019-12-30 00:00:00-05:00  262.108246  0.991432  138606.960798\n",
       "2019-12-31 00:00:00-05:00  263.178040  1.004081  139172.684525\n",
       "\n",
       "[5031 rows x 3 columns]"
      ]
     },
     "execution_count": 34,
     "metadata": {},
     "output_type": "execute_result"
    }
   ],
   "source": [
    "# price['Return'] = price['Close'].pct_change()\n",
    "price['Return'] = price.Close / price.Close.shift(1)\n",
    "price.Return.iat[0] = 1\n",
    "price['Bench_Bal'] = STARTING_BALANCE * price.Return.cumprod()\n",
    "\n",
    "price"
   ]
  },
  {
   "cell_type": "code",
   "execution_count": 35,
   "metadata": {},
   "outputs": [
    {
     "data": {
      "text/plain": [
       "-74.67"
      ]
     },
     "execution_count": 35,
     "metadata": {},
     "output_type": "execute_result"
    }
   ],
   "source": [
    "price['Bench_Peak'] = price.Bench_Bal.cummax()\n",
    "price['Bench_DD'] = price.Bench_Bal - price.Bench_Peak\n",
    "bench_dd = round((price.Bench_DD / price.Bench_Peak).min() * 100, 2)\n",
    "bench_dd"
   ]
  },
  {
   "cell_type": "code",
   "execution_count": 36,
   "metadata": {},
   "outputs": [],
   "source": [
    "# calculate MACD\n",
    "exp1 = price.Close.ewm(span=12, adjust=False).mean()\n",
    "exp2 = price.Close.ewm(span=26, adjust=False).mean()\n",
    "\n",
    "macd = exp1 - exp2\n",
    "signal = macd.ewm(span=9, adjust=False).mean()"
   ]
  },
  {
   "cell_type": "code",
   "execution_count": 38,
   "metadata": {},
   "outputs": [
    {
     "data": {
      "image/png": "[encoded data removed]",
      "text/plain": [
       "<Figure size 640x480 with 2 Axes>"
      ]
     },
     "metadata": {},
     "output_type": "display_data"
    }
   ],
   "source": [
    "plt.figure()\n",
    "plt.subplot(211)\n",
    "plt.plot(price.Close)\n",
    "\n",
    "plt.subplot(212)\n",
    "plt.plot(macd, label='SPGI MACD', color='y')\n",
    "plt.plot(signal, label='Signal Line', color='g')\n",
    "plt.show()"
   ]
  },
  {
   "cell_type": "code",
   "execution_count": 40,
   "metadata": {},
   "outputs": [
    {
     "data": {
      "text/html": [
       "<div>\n",
       "<style scoped>\n",
       "    .dataframe tbody tr th:only-of-type {\n",
       "        vertical-align: middle;\n",
       "    }\n",
       "\n",
       "    .dataframe tbody tr th {\n",
       "        vertical-align: top;\n",
       "    }\n",
       "\n",
       "    .dataframe thead th {\n",
       "        text-align: right;\n",
       "    }\n",
       "</style>\n",
       "<table border=\"1\" class=\"dataframe\">\n",
       "  <thead>\n",
       "    <tr style=\"text-align: right;\">\n",
       "      <th></th>\n",
       "      <th>Close</th>\n",
       "      <th>Return</th>\n",
       "      <th>Bench_Bal</th>\n",
       "      <th>Bench_Peak</th>\n",
       "      <th>Bench_DD</th>\n",
       "      <th>Long</th>\n",
       "    </tr>\n",
       "    <tr>\n",
       "      <th>Date</th>\n",
       "      <th></th>\n",
       "      <th></th>\n",
       "      <th></th>\n",
       "      <th></th>\n",
       "      <th></th>\n",
       "      <th></th>\n",
       "    </tr>\n",
       "  </thead>\n",
       "  <tbody>\n",
       "    <tr>\n",
       "      <th>2019-12-24 00:00:00-05:00</th>\n",
       "      <td>262.648010</td>\n",
       "      <td>1.004164</td>\n",
       "      <td>138892.396701</td>\n",
       "      <td>139850.633121</td>\n",
       "      <td>-958.236420</td>\n",
       "      <td>False</td>\n",
       "    </tr>\n",
       "    <tr>\n",
       "      <th>2019-12-26 00:00:00-05:00</th>\n",
       "      <td>263.669678</td>\n",
       "      <td>1.003890</td>\n",
       "      <td>139432.670525</td>\n",
       "      <td>139850.633121</td>\n",
       "      <td>-417.962596</td>\n",
       "      <td>False</td>\n",
       "    </tr>\n",
       "    <tr>\n",
       "      <th>2019-12-27 00:00:00-05:00</th>\n",
       "      <td>264.373291</td>\n",
       "      <td>1.002669</td>\n",
       "      <td>139804.752289</td>\n",
       "      <td>139850.633121</td>\n",
       "      <td>-45.880832</td>\n",
       "      <td>False</td>\n",
       "    </tr>\n",
       "    <tr>\n",
       "      <th>2019-12-30 00:00:00-05:00</th>\n",
       "      <td>262.108246</td>\n",
       "      <td>0.991432</td>\n",
       "      <td>138606.960798</td>\n",
       "      <td>139850.633121</td>\n",
       "      <td>-1243.672322</td>\n",
       "      <td>False</td>\n",
       "    </tr>\n",
       "    <tr>\n",
       "      <th>2019-12-31 00:00:00-05:00</th>\n",
       "      <td>263.178040</td>\n",
       "      <td>1.004081</td>\n",
       "      <td>139172.684525</td>\n",
       "      <td>139850.633121</td>\n",
       "      <td>-677.948596</td>\n",
       "      <td>False</td>\n",
       "    </tr>\n",
       "  </tbody>\n",
       "</table>\n",
       "</div>"
      ],
      "text/plain": [
       "                                Close    Return      Bench_Bal     Bench_Peak  \\\n",
       "Date                                                                            \n",
       "2019-12-24 00:00:00-05:00  262.648010  1.004164  138892.396701  139850.633121   \n",
       "2019-12-26 00:00:00-05:00  263.669678  1.003890  139432.670525  139850.633121   \n",
       "2019-12-27 00:00:00-05:00  264.373291  1.002669  139804.752289  139850.633121   \n",
       "2019-12-30 00:00:00-05:00  262.108246  0.991432  138606.960798  139850.633121   \n",
       "2019-12-31 00:00:00-05:00  263.178040  1.004081  139172.684525  139850.633121   \n",
       "\n",
       "                              Bench_DD   Long  \n",
       "Date                                           \n",
       "2019-12-24 00:00:00-05:00  -958.236420  False  \n",
       "2019-12-26 00:00:00-05:00  -417.962596  False  \n",
       "2019-12-27 00:00:00-05:00   -45.880832  False  \n",
       "2019-12-30 00:00:00-05:00 -1243.672322  False  \n",
       "2019-12-31 00:00:00-05:00  -677.948596  False  "
      ]
     },
     "execution_count": 40,
     "metadata": {},
     "output_type": "execute_result"
    }
   ],
   "source": [
    "# add entries\n",
    "price['Long'] = macd > signal\n",
    "price.tail()"
   ]
  },
  {
   "cell_type": "code",
   "execution_count": 41,
   "metadata": {},
   "outputs": [],
   "source": [
    "# calculate system return and balance\n",
    "price['Sys_Ret'] = np.where(price.Long.shift(1) == True, price.Return, 1)\n",
    "price['Sys_Bal'] = STARTING_BALANCE * price.Sys_Ret.cumprod()\n",
    "price"
   ]
  },
  {
   "cell_type": "code",
   "execution_count": null,
   "metadata": {},
   "outputs": [],
   "source": []
  }
 ],
 "metadata": {
  "kernelspec": {
   "display_name": "Python 3",
   "language": "python",
   "name": "python3"
  },
  "language_info": {
   "codemirror_mode": {
    "name": "ipython",
    "version": 3
   },
   "file_extension": ".py",
   "mimetype": "text/x-python",
   "name": "python",
   "nbconvert_exporter": "python",
   "pygments_lexer": "ipython3",
   "version": "3.11.4"
  }
 },
 "nbformat": 4,
 "nbformat_minor": 2
}
