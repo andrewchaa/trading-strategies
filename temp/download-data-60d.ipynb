{
 "cells": [
  {
   "cell_type": "code",
   "execution_count": 3,
   "metadata": {},
   "outputs": [
    {
     "name": "stdout",
     "output_type": "stream",
     "text": [
      "                                   Open          High           Low  \\\n",
      "Datetime                                                              \n",
      "2023-12-26 09:30:00-05:00  15028.669922  15061.528320  15024.649414   \n",
      "2023-12-26 09:45:00-05:00  15056.932617  15058.945312  15040.595703   \n",
      "2023-12-26 10:00:00-05:00  15049.379883  15056.487305  15046.880859   \n",
      "2023-12-26 10:15:00-05:00  15054.752930  15059.301758  15047.376953   \n",
      "2023-12-26 10:30:00-05:00  15051.303711  15064.952148  15051.303711   \n",
      "...                                 ...           ...           ...   \n",
      "2024-03-21 12:30:00-04:00  16507.191406  16508.164062  16488.746094   \n",
      "2024-03-21 12:45:00-04:00  16490.423828  16497.761719  16484.484375   \n",
      "2024-03-21 13:00:00-04:00  16495.902344  16495.902344  16475.193359   \n",
      "2024-03-21 13:15:00-04:00  16486.539062  16486.539062  16470.550781   \n",
      "2024-03-21 13:30:00-04:00  16474.558594  16475.033203  16466.267578   \n",
      "\n",
      "                                  Close     Volume  Dividends  Stock Splits  \n",
      "Datetime                                                                     \n",
      "2023-12-26 09:30:00-05:00  15054.533203  248777355        0.0           0.0  \n",
      "2023-12-26 09:45:00-05:00  15049.545898  311025552        0.0           0.0  \n",
      "2023-12-26 10:00:00-05:00  15054.790039  296317458        0.0           0.0  \n",
      "2023-12-26 10:15:00-05:00  15049.761719  474644000        0.0           0.0  \n",
      "2023-12-26 10:30:00-05:00  15055.957031  247680000        0.0           0.0  \n",
      "...                                 ...        ...        ...           ...  \n",
      "2024-03-21 12:30:00-04:00  16490.099609  112714000        0.0           0.0  \n",
      "2024-03-21 12:45:00-04:00  16495.699219   88439000        0.0           0.0  \n",
      "2024-03-21 13:00:00-04:00  16486.931641   97042000        0.0           0.0  \n",
      "2024-03-21 13:15:00-04:00  16476.951172  100175000        0.0           0.0  \n",
      "2024-03-21 13:30:00-04:00  16471.656250   40659000        0.0           0.0  \n",
      "\n",
      "[1551 rows x 7 columns]\n"
     ]
    }
   ],
   "source": [
    "import yfinance as yf\n",
    "from datetime import date\n",
    "\n",
    "tickerSymbol = '^IXIC'\n",
    "tickerData = yf.Ticker(tickerSymbol)\n",
    "tickerDf = tickerData.history(\n",
    "  period='60d',\n",
    "  interval='15m',\n",
    ")\n",
    "tickerDf = tickerDf[tickerDf.High != tickerDf.Low]\n",
    "\n",
    "print(tickerDf)\n",
    "tickerDf.to_csv(f\"data/{tickerSymbol.lower()}-60d.csv\")"
   ]
  },
  {
   "cell_type": "code",
   "execution_count": null,
   "metadata": {},
   "outputs": [],
   "source": []
  }
 ],
 "metadata": {
  "kernelspec": {
   "display_name": "Python 3",
   "language": "python",
   "name": "python3"
  },
  "language_info": {
   "codemirror_mode": {
    "name": "ipython",
    "version": 3
   },
   "file_extension": ".py",
   "mimetype": "text/x-python",
   "name": "python",
   "nbconvert_exporter": "python",
   "pygments_lexer": "ipython3",
   "version": "3.11.4"
  }
 },
 "nbformat": 4,
 "nbformat_minor": 2
}
