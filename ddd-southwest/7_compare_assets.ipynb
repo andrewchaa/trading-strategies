{
 "cells": [
  {
   "cell_type": "code",
   "execution_count": 1,
   "metadata": {},
   "outputs": [
    {
     "name": "stderr",
     "output_type": "stream",
     "text": [
      "100%|██████████| 1756/1756 [00:00<00:00, 7139.16it/s]\n",
      "100%|██████████| 1756/1756 [00:00<00:00, 4939.15it/s]\n",
      "100%|██████████| 1756/1756 [00:00<00:00, 153803.70it/s]\n",
      "100%|██████████| 1756/1756 [00:00<00:00, 223296.08it/s]\n",
      "100%|██████████| 1756/1756 [00:00<00:00, 151341.75it/s]\n",
      "/Users/andrew/github/trading-strategies/ddd-southwest/common_functions.py:199: UserWarning: Data index is not datetime. Assuming simple periods, but `pd.DateTimeIndex` is advised.\n",
      "  backtest = Backtest(data, MacdStrategy, cash=cash,\n"
     ]
    },
    {
     "name": "stdout",
     "output_type": "stream",
     "text": [
      "number of trades: 127\n"
     ]
    },
    {
     "name": "stderr",
     "output_type": "stream",
     "text": [
      "/Users/andrew/.pyenv/versions/3.11.4/lib/python3.11/site-packages/backtesting/backtesting.py:1375: UserWarning: For multiprocessing support in `Backtest.optimize()` set multiprocessing start method to 'fork'.\n",
      "  warnings.warn(\"For multiprocessing support in `Backtest.optimize()` \"\n"
     ]
    },
    {
     "data": {
      "application/vnd.jupyter.widget-view+json": {
       "model_id": "abd44750e5174df7bedb01c1743b24d4",
       "version_major": 2,
       "version_minor": 0
      },
      "text/plain": [
       "  0%|          | 0/8 [00:00<?, ?it/s]"
      ]
     },
     "metadata": {},
     "output_type": "display_data"
    },
    {
     "name": "stderr",
     "output_type": "stream",
     "text": [
      "/var/folders/rk/xympl3kj42nf5b5zvnt_lrxh0000gn/T/ipykernel_61180/2061942165.py:15: FutureWarning: The behavior of DataFrame concatenation with empty or all-NA entries is deprecated. In a future version, this will no longer exclude empty or all-NA columns when determining the result dtypes. To retain the old behavior, exclude the relevant entries before the concat operation.\n",
      "  return_stats = pd.concat([\n",
      "100%|██████████| 1749/1749 [00:00<00:00, 9702.44it/s]\n",
      "100%|██████████| 1749/1749 [00:00<00:00, 5742.98it/s]\n",
      "100%|██████████| 1749/1749 [00:00<00:00, 153421.26it/s]\n",
      "100%|██████████| 1749/1749 [00:00<00:00, 157739.60it/s]\n",
      "100%|██████████| 1749/1749 [00:00<00:00, 120453.15it/s]"
     ]
    },
    {
     "name": "stdout",
     "output_type": "stream",
     "text": [
      "number of trades: 117\n"
     ]
    },
    {
     "name": "stderr",
     "output_type": "stream",
     "text": [
      "\n",
      "/Users/andrew/github/trading-strategies/ddd-southwest/common_functions.py:199: UserWarning: Data index is not datetime. Assuming simple periods, but `pd.DateTimeIndex` is advised.\n",
      "  backtest = Backtest(data, MacdStrategy, cash=cash,\n",
      "/Users/andrew/.pyenv/versions/3.11.4/lib/python3.11/site-packages/backtesting/backtesting.py:1375: UserWarning: For multiprocessing support in `Backtest.optimize()` set multiprocessing start method to 'fork'.\n",
      "  warnings.warn(\"For multiprocessing support in `Backtest.optimize()` \"\n"
     ]
    },
    {
     "data": {
      "application/vnd.jupyter.widget-view+json": {
       "model_id": "608ee41af6d44a09a862d27e25533e6e",
       "version_major": 2,
       "version_minor": 0
      },
      "text/plain": [
       "  0%|          | 0/8 [00:00<?, ?it/s]"
      ]
     },
     "metadata": {},
     "output_type": "display_data"
    },
    {
     "name": "stderr",
     "output_type": "stream",
     "text": [
      "100%|██████████| 1749/1749 [00:00<00:00, 7370.44it/s]\n",
      "100%|██████████| 1749/1749 [00:00<00:00, 6044.48it/s]\n",
      "100%|██████████| 1749/1749 [00:00<00:00, 160799.58it/s]\n",
      "100%|██████████| 1749/1749 [00:00<00:00, 222628.68it/s]\n",
      "100%|██████████| 1749/1749 [00:00<00:00, 148144.87it/s]"
     ]
    },
    {
     "name": "stdout",
     "output_type": "stream",
     "text": [
      "number of trades: 107\n"
     ]
    },
    {
     "name": "stderr",
     "output_type": "stream",
     "text": [
      "\n",
      "/Users/andrew/github/trading-strategies/ddd-southwest/common_functions.py:199: UserWarning: Some prices are larger than initial cash value. Note that fractional trading is not supported. If you want to trade Bitcoin, increase initial cash, or trade μBTC or satoshis instead (GH-134).\n",
      "  backtest = Backtest(data, MacdStrategy, cash=cash,\n",
      "/Users/andrew/github/trading-strategies/ddd-southwest/common_functions.py:199: UserWarning: Data index is not datetime. Assuming simple periods, but `pd.DateTimeIndex` is advised.\n",
      "  backtest = Backtest(data, MacdStrategy, cash=cash,\n",
      "/Users/andrew/.pyenv/versions/3.11.4/lib/python3.11/site-packages/backtesting/backtesting.py:1375: UserWarning: For multiprocessing support in `Backtest.optimize()` set multiprocessing start method to 'fork'.\n",
      "  warnings.warn(\"For multiprocessing support in `Backtest.optimize()` \"\n"
     ]
    },
    {
     "data": {
      "application/vnd.jupyter.widget-view+json": {
       "model_id": "a486595bc8034bedb8368c08d66d3506",
       "version_major": 2,
       "version_minor": 0
      },
      "text/plain": [
       "  0%|          | 0/8 [00:00<?, ?it/s]"
      ]
     },
     "metadata": {},
     "output_type": "display_data"
    },
    {
     "name": "stderr",
     "output_type": "stream",
     "text": [
      "100%|██████████| 1749/1749 [00:00<00:00, 9151.94it/s]\n",
      "100%|██████████| 1749/1749 [00:00<00:00, 4938.87it/s]\n",
      "100%|██████████| 1749/1749 [00:00<00:00, 138786.49it/s]\n",
      "100%|██████████| 1749/1749 [00:00<00:00, 193905.63it/s]\n",
      "100%|██████████| 1749/1749 [00:00<00:00, 132286.90it/s]\n",
      "/Users/andrew/github/trading-strategies/ddd-southwest/common_functions.py:199: UserWarning: Data index is not datetime. Assuming simple periods, but `pd.DateTimeIndex` is advised.\n",
      "  backtest = Backtest(data, MacdStrategy, cash=cash,\n"
     ]
    },
    {
     "name": "stdout",
     "output_type": "stream",
     "text": [
      "number of trades: 110\n"
     ]
    },
    {
     "name": "stderr",
     "output_type": "stream",
     "text": [
      "/Users/andrew/.pyenv/versions/3.11.4/lib/python3.11/site-packages/backtesting/backtesting.py:1375: UserWarning: For multiprocessing support in `Backtest.optimize()` set multiprocessing start method to 'fork'.\n",
      "  warnings.warn(\"For multiprocessing support in `Backtest.optimize()` \"\n"
     ]
    },
    {
     "data": {
      "application/vnd.jupyter.widget-view+json": {
       "model_id": "cf0af9d36c1c4f13b7303df02b69c4d1",
       "version_major": 2,
       "version_minor": 0
      },
      "text/plain": [
       "  0%|          | 0/8 [00:00<?, ?it/s]"
      ]
     },
     "metadata": {},
     "output_type": "display_data"
    },
    {
     "name": "stderr",
     "output_type": "stream",
     "text": [
      "100%|██████████| 2258/2258 [00:00<00:00, 9631.66it/s] \n",
      "100%|██████████| 2258/2258 [00:00<00:00, 5295.10it/s]\n",
      "100%|██████████| 2258/2258 [00:00<00:00, 80165.38it/s]\n",
      "100%|██████████| 2258/2258 [00:00<00:00, 96051.14it/s]\n",
      "100%|██████████| 2258/2258 [00:00<00:00, 12265.14it/s]\n",
      "/Users/andrew/github/trading-strategies/ddd-southwest/common_functions.py:199: UserWarning: Data index is not datetime. Assuming simple periods, but `pd.DateTimeIndex` is advised.\n",
      "  backtest = Backtest(data, MacdStrategy, cash=cash,\n"
     ]
    },
    {
     "name": "stdout",
     "output_type": "stream",
     "text": [
      "number of trades: 153\n"
     ]
    },
    {
     "name": "stderr",
     "output_type": "stream",
     "text": [
      "/Users/andrew/.pyenv/versions/3.11.4/lib/python3.11/site-packages/backtesting/backtesting.py:1375: UserWarning: For multiprocessing support in `Backtest.optimize()` set multiprocessing start method to 'fork'.\n",
      "  warnings.warn(\"For multiprocessing support in `Backtest.optimize()` \"\n"
     ]
    },
    {
     "data": {
      "application/vnd.jupyter.widget-view+json": {
       "model_id": "18c6366b48044f959a508b7a0472f0bb",
       "version_major": 2,
       "version_minor": 0
      },
      "text/plain": [
       "  0%|          | 0/8 [00:00<?, ?it/s]"
      ]
     },
     "metadata": {},
     "output_type": "display_data"
    },
    {
     "name": "stderr",
     "output_type": "stream",
     "text": [
      "100%|██████████| 1706/1706 [00:00<00:00, 10718.11it/s]\n",
      "100%|██████████| 1706/1706 [00:00<00:00, 5176.25it/s]\n",
      "100%|██████████| 1706/1706 [00:00<00:00, 160732.35it/s]\n",
      "100%|██████████| 1706/1706 [00:00<00:00, 196110.47it/s]\n",
      "100%|██████████| 1706/1706 [00:00<00:00, 141833.15it/s]\n",
      "/Users/andrew/github/trading-strategies/ddd-southwest/common_functions.py:199: UserWarning: Data index is not datetime. Assuming simple periods, but `pd.DateTimeIndex` is advised.\n",
      "  backtest = Backtest(data, MacdStrategy, cash=cash,\n"
     ]
    },
    {
     "name": "stdout",
     "output_type": "stream",
     "text": [
      "number of trades: 112\n"
     ]
    },
    {
     "name": "stderr",
     "output_type": "stream",
     "text": [
      "/Users/andrew/.pyenv/versions/3.11.4/lib/python3.11/site-packages/backtesting/backtesting.py:1375: UserWarning: For multiprocessing support in `Backtest.optimize()` set multiprocessing start method to 'fork'.\n",
      "  warnings.warn(\"For multiprocessing support in `Backtest.optimize()` \"\n"
     ]
    },
    {
     "data": {
      "application/vnd.jupyter.widget-view+json": {
       "model_id": "102811f7dcd44622ac5e3fb007a85254",
       "version_major": 2,
       "version_minor": 0
      },
      "text/plain": [
       "  0%|          | 0/8 [00:00<?, ?it/s]"
      ]
     },
     "metadata": {},
     "output_type": "display_data"
    },
    {
     "name": "stderr",
     "output_type": "stream",
     "text": [
      "100%|██████████| 2291/2291 [00:00<00:00, 10000.31it/s]\n",
      "100%|██████████| 2291/2291 [00:00<00:00, 5878.59it/s]\n",
      "100%|██████████| 2291/2291 [00:00<00:00, 149946.17it/s]\n",
      "100%|██████████| 2291/2291 [00:00<00:00, 206289.05it/s]\n",
      "100%|██████████| 2291/2291 [00:00<00:00, 149533.16it/s]"
     ]
    },
    {
     "name": "stdout",
     "output_type": "stream",
     "text": [
      "number of trades: 155\n"
     ]
    },
    {
     "name": "stderr",
     "output_type": "stream",
     "text": [
      "\n",
      "/Users/andrew/github/trading-strategies/ddd-southwest/common_functions.py:199: UserWarning: Data index is not datetime. Assuming simple periods, but `pd.DateTimeIndex` is advised.\n",
      "  backtest = Backtest(data, MacdStrategy, cash=cash,\n",
      "/Users/andrew/.pyenv/versions/3.11.4/lib/python3.11/site-packages/backtesting/backtesting.py:1375: UserWarning: For multiprocessing support in `Backtest.optimize()` set multiprocessing start method to 'fork'.\n",
      "  warnings.warn(\"For multiprocessing support in `Backtest.optimize()` \"\n"
     ]
    },
    {
     "data": {
      "application/vnd.jupyter.widget-view+json": {
       "model_id": "c704ee6bc9d0479b81f3d40498a26414",
       "version_major": 2,
       "version_minor": 0
      },
      "text/plain": [
       "  0%|          | 0/8 [00:00<?, ?it/s]"
      ]
     },
     "metadata": {},
     "output_type": "display_data"
    },
    {
     "name": "stderr",
     "output_type": "stream",
     "text": [
      "100%|██████████| 2295/2295 [00:00<00:00, 8123.47it/s]\n",
      "100%|██████████| 2295/2295 [00:00<00:00, 6003.92it/s]\n",
      "100%|██████████| 2295/2295 [00:00<00:00, 140579.90it/s]\n",
      "100%|██████████| 2295/2295 [00:00<00:00, 207764.30it/s]\n",
      "100%|██████████| 2295/2295 [00:00<00:00, 135869.23it/s]"
     ]
    },
    {
     "name": "stdout",
     "output_type": "stream",
     "text": [
      "number of trades: 160\n"
     ]
    },
    {
     "name": "stderr",
     "output_type": "stream",
     "text": [
      "\n",
      "/Users/andrew/github/trading-strategies/ddd-southwest/common_functions.py:199: UserWarning: Data index is not datetime. Assuming simple periods, but `pd.DateTimeIndex` is advised.\n",
      "  backtest = Backtest(data, MacdStrategy, cash=cash,\n",
      "/Users/andrew/.pyenv/versions/3.11.4/lib/python3.11/site-packages/backtesting/backtesting.py:1375: UserWarning: For multiprocessing support in `Backtest.optimize()` set multiprocessing start method to 'fork'.\n",
      "  warnings.warn(\"For multiprocessing support in `Backtest.optimize()` \"\n"
     ]
    },
    {
     "data": {
      "application/vnd.jupyter.widget-view+json": {
       "model_id": "a261d0944a8f4e47977fb722195b77d2",
       "version_major": 2,
       "version_minor": 0
      },
      "text/plain": [
       "  0%|          | 0/8 [00:00<?, ?it/s]"
      ]
     },
     "metadata": {},
     "output_type": "display_data"
    },
    {
     "name": "stderr",
     "output_type": "stream",
     "text": [
      "100%|██████████| 8755/8755 [00:01<00:00, 8750.45it/s] \n",
      "100%|██████████| 8755/8755 [00:01<00:00, 4551.10it/s]\n",
      "100%|██████████| 8755/8755 [00:00<00:00, 136526.02it/s]\n",
      "100%|██████████| 8755/8755 [00:00<00:00, 226286.73it/s]\n",
      "100%|██████████| 8755/8755 [00:00<00:00, 155550.56it/s]\n",
      "/Users/andrew/github/trading-strategies/ddd-southwest/common_functions.py:199: UserWarning: Some prices are larger than initial cash value. Note that fractional trading is not supported. If you want to trade Bitcoin, increase initial cash, or trade μBTC or satoshis instead (GH-134).\n",
      "  backtest = Backtest(data, MacdStrategy, cash=cash,\n",
      "/Users/andrew/github/trading-strategies/ddd-southwest/common_functions.py:199: UserWarning: Data index is not datetime. Assuming simple periods, but `pd.DateTimeIndex` is advised.\n",
      "  backtest = Backtest(data, MacdStrategy, cash=cash,\n"
     ]
    },
    {
     "name": "stdout",
     "output_type": "stream",
     "text": [
      "number of trades: 571\n"
     ]
    },
    {
     "name": "stderr",
     "output_type": "stream",
     "text": [
      "/Users/andrew/.pyenv/versions/3.11.4/lib/python3.11/site-packages/backtesting/backtesting.py:1375: UserWarning: For multiprocessing support in `Backtest.optimize()` set multiprocessing start method to 'fork'.\n",
      "  warnings.warn(\"For multiprocessing support in `Backtest.optimize()` \"\n"
     ]
    },
    {
     "data": {
      "application/vnd.jupyter.widget-view+json": {
       "model_id": "98f32b3f53004e448fc27ced08ec8eb7",
       "version_major": 2,
       "version_minor": 0
      },
      "text/plain": [
       "  0%|          | 0/8 [00:00<?, ?it/s]"
      ]
     },
     "metadata": {},
     "output_type": "display_data"
    },
    {
     "name": "stderr",
     "output_type": "stream",
     "text": [
      "100%|██████████| 6158/6158 [00:00<00:00, 11054.92it/s]\n",
      "100%|██████████| 6158/6158 [00:01<00:00, 5998.67it/s]\n",
      "100%|██████████| 6158/6158 [00:00<00:00, 61845.77it/s]\n",
      "100%|██████████| 6158/6158 [00:00<00:00, 223706.87it/s]\n",
      "100%|██████████| 6158/6158 [00:00<00:00, 153298.66it/s]\n",
      "/Users/andrew/github/trading-strategies/ddd-southwest/common_functions.py:199: UserWarning: Data index is not datetime. Assuming simple periods, but `pd.DateTimeIndex` is advised.\n",
      "  backtest = Backtest(data, MacdStrategy, cash=cash,\n"
     ]
    },
    {
     "name": "stdout",
     "output_type": "stream",
     "text": [
      "number of trades: 391\n"
     ]
    },
    {
     "name": "stderr",
     "output_type": "stream",
     "text": [
      "/Users/andrew/.pyenv/versions/3.11.4/lib/python3.11/site-packages/backtesting/backtesting.py:1375: UserWarning: For multiprocessing support in `Backtest.optimize()` set multiprocessing start method to 'fork'.\n",
      "  warnings.warn(\"For multiprocessing support in `Backtest.optimize()` \"\n"
     ]
    },
    {
     "data": {
      "application/vnd.jupyter.widget-view+json": {
       "model_id": "b43c1b43062644e48219f23f20c777c5",
       "version_major": 2,
       "version_minor": 0
      },
      "text/plain": [
       "  0%|          | 0/8 [00:00<?, ?it/s]"
      ]
     },
     "metadata": {},
     "output_type": "display_data"
    },
    {
     "data": {
      "text/html": [
       "<div>\n",
       "<style scoped>\n",
       "    .dataframe tbody tr th:only-of-type {\n",
       "        vertical-align: middle;\n",
       "    }\n",
       "\n",
       "    .dataframe tbody tr th {\n",
       "        vertical-align: top;\n",
       "    }\n",
       "\n",
       "    .dataframe thead th {\n",
       "        text-align: right;\n",
       "    }\n",
       "</style>\n",
       "<table border=\"1\" class=\"dataframe\">\n",
       "  <thead>\n",
       "    <tr style=\"text-align: right;\">\n",
       "      <th></th>\n",
       "      <th>Index</th>\n",
       "      <th>Buy &amp; Hold Return [%]</th>\n",
       "      <th>Return [%]</th>\n",
       "    </tr>\n",
       "  </thead>\n",
       "  <tbody>\n",
       "    <tr>\n",
       "      <th>0</th>\n",
       "      <td>^ixic</td>\n",
       "      <td>31.377496</td>\n",
       "      <td>28.773014</td>\n",
       "    </tr>\n",
       "    <tr>\n",
       "      <th>1</th>\n",
       "      <td>^GSPC</td>\n",
       "      <td>20.992456</td>\n",
       "      <td>11.056869</td>\n",
       "    </tr>\n",
       "    <tr>\n",
       "      <th>2</th>\n",
       "      <td>^DJI</td>\n",
       "      <td>12.867031</td>\n",
       "      <td>52.560890</td>\n",
       "    </tr>\n",
       "    <tr>\n",
       "      <th>3</th>\n",
       "      <td>^NYA</td>\n",
       "      <td>12.727577</td>\n",
       "      <td>24.297924</td>\n",
       "    </tr>\n",
       "    <tr>\n",
       "      <th>4</th>\n",
       "      <td>^FTSE</td>\n",
       "      <td>1.547797</td>\n",
       "      <td>-1.098582</td>\n",
       "    </tr>\n",
       "    <tr>\n",
       "      <th>5</th>\n",
       "      <td>^HSI</td>\n",
       "      <td>-17.553435</td>\n",
       "      <td>115.921428</td>\n",
       "    </tr>\n",
       "    <tr>\n",
       "      <th>6</th>\n",
       "      <td>^GDAXI</td>\n",
       "      <td>12.515501</td>\n",
       "      <td>37.440851</td>\n",
       "    </tr>\n",
       "    <tr>\n",
       "      <th>7</th>\n",
       "      <td>^FCHI</td>\n",
       "      <td>6.377608</td>\n",
       "      <td>7.623755</td>\n",
       "    </tr>\n",
       "    <tr>\n",
       "      <th>8</th>\n",
       "      <td>BTC-USD</td>\n",
       "      <td>125.547076</td>\n",
       "      <td>175.080326</td>\n",
       "    </tr>\n",
       "    <tr>\n",
       "      <th>9</th>\n",
       "      <td>EURUSD=X</td>\n",
       "      <td>-3.197864</td>\n",
       "      <td>0.000588</td>\n",
       "    </tr>\n",
       "  </tbody>\n",
       "</table>\n",
       "</div>"
      ],
      "text/plain": [
       "      Index  Buy & Hold Return [%]  Return [%]\n",
       "0     ^ixic              31.377496   28.773014\n",
       "1     ^GSPC              20.992456   11.056869\n",
       "2      ^DJI              12.867031   52.560890\n",
       "3      ^NYA              12.727577   24.297924\n",
       "4     ^FTSE               1.547797   -1.098582\n",
       "5      ^HSI             -17.553435  115.921428\n",
       "6    ^GDAXI              12.515501   37.440851\n",
       "7     ^FCHI               6.377608    7.623755\n",
       "8   BTC-USD             125.547076  175.080326\n",
       "9  EURUSD=X              -3.197864    0.000588"
      ]
     },
     "execution_count": 1,
     "metadata": {},
     "output_type": "execute_result"
    }
   ],
   "source": [
    "import common_functions as cf\n",
    "import common_trade_signals as cts\n",
    "import pandas as pd\n",
    "\n",
    "indices = ['^ixic', '^GSPC', '^DJI', '^NYA', '^FTSE', '^HSI', '^GDAXI', '^FCHI', 'BTC-USD', 'EURUSD=X']\n",
    "return_stats = pd.DataFrame(\n",
    "    columns=['Index', 'Buy & Hold Return [%]', 'Return [%]'])\n",
    "\n",
    "for index in indices:\n",
    "    tradingData = cf.read_data(index, '1y', '1h')\n",
    "    cf.set_indicators(tradingData, 200)\n",
    "    cf.set_trade_signals(tradingData, cts.total_macd_trade_signal)\n",
    "    backtest, stats, heatmap = cf.backtest_trading(tradingData, 25000)\n",
    "\n",
    "    return_stats = pd.concat([\n",
    "        return_stats,\n",
    "        pd.DataFrame([[index, stats.loc['Buy & Hold Return [%]'], stats.loc['Return [%]']]], columns=[\n",
    "                     'Index', 'Buy & Hold Return [%]', 'Return [%]'])\n",
    "    ], ignore_index=True)\n",
    "\n",
    "\n",
    "return_stats"
   ]
  },
  {
   "cell_type": "code",
   "execution_count": 4,
   "metadata": {},
   "outputs": [
    {
     "name": "stderr",
     "output_type": "stream",
     "text": [
      "100%|██████████| 1756/1756 [00:00<00:00, 9371.63it/s]\n",
      "100%|██████████| 1756/1756 [00:00<00:00, 5833.21it/s]\n",
      "100%|██████████| 1756/1756 [00:00<00:00, 152387.61it/s]\n",
      "100%|██████████| 1756/1756 [00:00<00:00, 198984.11it/s]\n",
      "100%|██████████| 1756/1756 [00:00<00:00, 93452.75it/s]"
     ]
    },
    {
     "name": "stdout",
     "output_type": "stream",
     "text": [
      "number of trades: 44\n"
     ]
    },
    {
     "name": "stderr",
     "output_type": "stream",
     "text": [
      "\n",
      "/Users/andrew/github/trading-strategies/ddd-southwest/common_functions.py:191: UserWarning: Data index is not datetime. Assuming simple periods, but `pd.DateTimeIndex` is advised.\n",
      "  backtest = Backtest(data, MacdStrategy, cash=cash,\n",
      "/Users/andrew/.pyenv/versions/3.11.4/lib/python3.11/site-packages/backtesting/backtesting.py:1375: UserWarning: For multiprocessing support in `Backtest.optimize()` set multiprocessing start method to 'fork'.\n",
      "  warnings.warn(\"For multiprocessing support in `Backtest.optimize()` \"\n"
     ]
    },
    {
     "data": {
      "application/vnd.jupyter.widget-view+json": {
       "model_id": "95a309fd280044baa0a0d009528f007d",
       "version_major": 2,
       "version_minor": 0
      },
      "text/plain": [
       "  0%|          | 0/8 [00:00<?, ?it/s]"
      ]
     },
     "metadata": {},
     "output_type": "display_data"
    },
    {
     "name": "stderr",
     "output_type": "stream",
     "text": [
      "/var/folders/rk/xympl3kj42nf5b5zvnt_lrxh0000gn/T/ipykernel_59698/3109507945.py:15: FutureWarning: The behavior of DataFrame concatenation with empty or all-NA entries is deprecated. In a future version, this will no longer exclude empty or all-NA columns when determining the result dtypes. To retain the old behavior, exclude the relevant entries before the concat operation.\n",
      "  return_stats = pd.concat([\n",
      "100%|██████████| 1749/1749 [00:00<00:00, 8079.76it/s]\n",
      "100%|██████████| 1749/1749 [00:00<00:00, 5936.89it/s]\n",
      "100%|██████████| 1749/1749 [00:00<00:00, 149485.22it/s]\n",
      "100%|██████████| 1749/1749 [00:00<00:00, 218569.19it/s]\n",
      "100%|██████████| 1749/1749 [00:00<00:00, 84915.36it/s]"
     ]
    },
    {
     "name": "stdout",
     "output_type": "stream",
     "text": [
      "number of trades: 40\n"
     ]
    },
    {
     "name": "stderr",
     "output_type": "stream",
     "text": [
      "\n",
      "/Users/andrew/github/trading-strategies/ddd-southwest/common_functions.py:191: UserWarning: Data index is not datetime. Assuming simple periods, but `pd.DateTimeIndex` is advised.\n",
      "  backtest = Backtest(data, MacdStrategy, cash=cash,\n",
      "/Users/andrew/.pyenv/versions/3.11.4/lib/python3.11/site-packages/backtesting/backtesting.py:1375: UserWarning: For multiprocessing support in `Backtest.optimize()` set multiprocessing start method to 'fork'.\n",
      "  warnings.warn(\"For multiprocessing support in `Backtest.optimize()` \"\n"
     ]
    },
    {
     "data": {
      "application/vnd.jupyter.widget-view+json": {
       "model_id": "cd5470a81aa84a49a4720fbab42c73c3",
       "version_major": 2,
       "version_minor": 0
      },
      "text/plain": [
       "  0%|          | 0/8 [00:00<?, ?it/s]"
      ]
     },
     "metadata": {},
     "output_type": "display_data"
    },
    {
     "name": "stderr",
     "output_type": "stream",
     "text": [
      "100%|██████████| 1749/1749 [00:00<00:00, 9732.73it/s] \n",
      "100%|██████████| 1749/1749 [00:00<00:00, 5934.03it/s]\n",
      "100%|██████████| 1749/1749 [00:00<00:00, 166924.65it/s]\n",
      "100%|██████████| 1749/1749 [00:00<00:00, 214341.50it/s]\n",
      "100%|██████████| 1749/1749 [00:00<00:00, 89244.85it/s]"
     ]
    },
    {
     "name": "stdout",
     "output_type": "stream",
     "text": [
      "number of trades: 37\n"
     ]
    },
    {
     "name": "stderr",
     "output_type": "stream",
     "text": [
      "\n",
      "/Users/andrew/github/trading-strategies/ddd-southwest/common_functions.py:191: UserWarning: Some prices are larger than initial cash value. Note that fractional trading is not supported. If you want to trade Bitcoin, increase initial cash, or trade μBTC or satoshis instead (GH-134).\n",
      "  backtest = Backtest(data, MacdStrategy, cash=cash,\n",
      "/Users/andrew/github/trading-strategies/ddd-southwest/common_functions.py:191: UserWarning: Data index is not datetime. Assuming simple periods, but `pd.DateTimeIndex` is advised.\n",
      "  backtest = Backtest(data, MacdStrategy, cash=cash,\n",
      "/Users/andrew/.pyenv/versions/3.11.4/lib/python3.11/site-packages/backtesting/backtesting.py:1375: UserWarning: For multiprocessing support in `Backtest.optimize()` set multiprocessing start method to 'fork'.\n",
      "  warnings.warn(\"For multiprocessing support in `Backtest.optimize()` \"\n"
     ]
    },
    {
     "data": {
      "application/vnd.jupyter.widget-view+json": {
       "model_id": "a8d3d88c3e6945ca9f36a61e6a01cc58",
       "version_major": 2,
       "version_minor": 0
      },
      "text/plain": [
       "  0%|          | 0/8 [00:00<?, ?it/s]"
      ]
     },
     "metadata": {},
     "output_type": "display_data"
    },
    {
     "name": "stderr",
     "output_type": "stream",
     "text": [
      "100%|██████████| 1749/1749 [00:00<00:00, 7179.24it/s]\n",
      "100%|██████████| 1749/1749 [00:00<00:00, 6060.25it/s]\n",
      "100%|██████████| 1749/1749 [00:00<00:00, 154396.43it/s]\n",
      "100%|██████████| 1749/1749 [00:00<00:00, 217945.80it/s]\n",
      "100%|██████████| 1749/1749 [00:00<00:00, 86115.53it/s]"
     ]
    },
    {
     "name": "stdout",
     "output_type": "stream",
     "text": [
      "number of trades: 38\n"
     ]
    },
    {
     "name": "stderr",
     "output_type": "stream",
     "text": [
      "\n",
      "/Users/andrew/github/trading-strategies/ddd-southwest/common_functions.py:191: UserWarning: Data index is not datetime. Assuming simple periods, but `pd.DateTimeIndex` is advised.\n",
      "  backtest = Backtest(data, MacdStrategy, cash=cash,\n",
      "/Users/andrew/.pyenv/versions/3.11.4/lib/python3.11/site-packages/backtesting/backtesting.py:1375: UserWarning: For multiprocessing support in `Backtest.optimize()` set multiprocessing start method to 'fork'.\n",
      "  warnings.warn(\"For multiprocessing support in `Backtest.optimize()` \"\n"
     ]
    },
    {
     "data": {
      "application/vnd.jupyter.widget-view+json": {
       "model_id": "e9f0b74457d44640ac43784fdcbfdece",
       "version_major": 2,
       "version_minor": 0
      },
      "text/plain": [
       "  0%|          | 0/8 [00:00<?, ?it/s]"
      ]
     },
     "metadata": {},
     "output_type": "display_data"
    },
    {
     "name": "stderr",
     "output_type": "stream",
     "text": [
      "100%|██████████| 2258/2258 [00:00<00:00, 8021.09it/s]\n",
      "100%|██████████| 2258/2258 [00:00<00:00, 5988.91it/s]\n",
      "100%|██████████| 2258/2258 [00:00<00:00, 153501.55it/s]\n",
      "100%|██████████| 2258/2258 [00:00<00:00, 214863.16it/s]\n",
      "100%|██████████| 2258/2258 [00:00<00:00, 68403.01it/s]"
     ]
    },
    {
     "name": "stdout",
     "output_type": "stream",
     "text": [
      "number of trades: 44\n"
     ]
    },
    {
     "name": "stderr",
     "output_type": "stream",
     "text": [
      "\n",
      "/Users/andrew/github/trading-strategies/ddd-southwest/common_functions.py:191: UserWarning: Data index is not datetime. Assuming simple periods, but `pd.DateTimeIndex` is advised.\n",
      "  backtest = Backtest(data, MacdStrategy, cash=cash,\n",
      "/Users/andrew/.pyenv/versions/3.11.4/lib/python3.11/site-packages/backtesting/backtesting.py:1375: UserWarning: For multiprocessing support in `Backtest.optimize()` set multiprocessing start method to 'fork'.\n",
      "  warnings.warn(\"For multiprocessing support in `Backtest.optimize()` \"\n"
     ]
    },
    {
     "data": {
      "application/vnd.jupyter.widget-view+json": {
       "model_id": "d9d74bb41a39484c840b65c2f86bb4ba",
       "version_major": 2,
       "version_minor": 0
      },
      "text/plain": [
       "  0%|          | 0/8 [00:00<?, ?it/s]"
      ]
     },
     "metadata": {},
     "output_type": "display_data"
    },
    {
     "name": "stderr",
     "output_type": "stream",
     "text": [
      "100%|██████████| 1706/1706 [00:00<00:00, 10996.36it/s]\n",
      "100%|██████████| 1706/1706 [00:00<00:00, 5867.87it/s]\n",
      "100%|██████████| 1706/1706 [00:00<00:00, 154070.21it/s]\n",
      "100%|██████████| 1706/1706 [00:00<00:00, 223176.43it/s]\n",
      "100%|██████████| 1706/1706 [00:00<00:00, 95504.49it/s]"
     ]
    },
    {
     "name": "stdout",
     "output_type": "stream",
     "text": [
      "number of trades: 28\n"
     ]
    },
    {
     "name": "stderr",
     "output_type": "stream",
     "text": [
      "\n",
      "/Users/andrew/github/trading-strategies/ddd-southwest/common_functions.py:191: UserWarning: Data index is not datetime. Assuming simple periods, but `pd.DateTimeIndex` is advised.\n",
      "  backtest = Backtest(data, MacdStrategy, cash=cash,\n",
      "/Users/andrew/.pyenv/versions/3.11.4/lib/python3.11/site-packages/backtesting/backtesting.py:1375: UserWarning: For multiprocessing support in `Backtest.optimize()` set multiprocessing start method to 'fork'.\n",
      "  warnings.warn(\"For multiprocessing support in `Backtest.optimize()` \"\n"
     ]
    },
    {
     "data": {
      "application/vnd.jupyter.widget-view+json": {
       "model_id": "3d1c8bab92504be5a9ad70a34b375dcb",
       "version_major": 2,
       "version_minor": 0
      },
      "text/plain": [
       "  0%|          | 0/8 [00:00<?, ?it/s]"
      ]
     },
     "metadata": {},
     "output_type": "display_data"
    },
    {
     "name": "stderr",
     "output_type": "stream",
     "text": [
      "100%|██████████| 2291/2291 [00:00<00:00, 9997.13it/s] \n",
      "100%|██████████| 2291/2291 [00:00<00:00, 5637.57it/s]\n",
      "100%|██████████| 2291/2291 [00:00<00:00, 137556.55it/s]\n",
      "100%|██████████| 2291/2291 [00:00<00:00, 209532.28it/s]\n",
      "100%|██████████| 2291/2291 [00:00<00:00, 78769.34it/s]\n",
      "/Users/andrew/github/trading-strategies/ddd-southwest/common_functions.py:191: UserWarning: Data index is not datetime. Assuming simple periods, but `pd.DateTimeIndex` is advised.\n",
      "  backtest = Backtest(data, MacdStrategy, cash=cash,\n"
     ]
    },
    {
     "name": "stdout",
     "output_type": "stream",
     "text": [
      "number of trades: 51\n"
     ]
    },
    {
     "name": "stderr",
     "output_type": "stream",
     "text": [
      "/Users/andrew/.pyenv/versions/3.11.4/lib/python3.11/site-packages/backtesting/backtesting.py:1375: UserWarning: For multiprocessing support in `Backtest.optimize()` set multiprocessing start method to 'fork'.\n",
      "  warnings.warn(\"For multiprocessing support in `Backtest.optimize()` \"\n"
     ]
    },
    {
     "data": {
      "application/vnd.jupyter.widget-view+json": {
       "model_id": "4625d18363c640fcba06eb2d303737a4",
       "version_major": 2,
       "version_minor": 0
      },
      "text/plain": [
       "  0%|          | 0/8 [00:00<?, ?it/s]"
      ]
     },
     "metadata": {},
     "output_type": "display_data"
    },
    {
     "name": "stderr",
     "output_type": "stream",
     "text": [
      "100%|██████████| 2295/2295 [00:00<00:00, 9629.03it/s]\n",
      "100%|██████████| 2295/2295 [00:00<00:00, 5570.71it/s]\n",
      "100%|██████████| 2295/2295 [00:00<00:00, 153859.75it/s]\n",
      "100%|██████████| 2295/2295 [00:00<00:00, 214123.63it/s]\n",
      "100%|██████████| 2295/2295 [00:00<00:00, 53932.51it/s]\n",
      "/Users/andrew/github/trading-strategies/ddd-southwest/common_functions.py:191: UserWarning: Data index is not datetime. Assuming simple periods, but `pd.DateTimeIndex` is advised.\n",
      "  backtest = Backtest(data, MacdStrategy, cash=cash,\n"
     ]
    },
    {
     "name": "stdout",
     "output_type": "stream",
     "text": [
      "number of trades: 48\n"
     ]
    },
    {
     "name": "stderr",
     "output_type": "stream",
     "text": [
      "/Users/andrew/.pyenv/versions/3.11.4/lib/python3.11/site-packages/backtesting/backtesting.py:1375: UserWarning: For multiprocessing support in `Backtest.optimize()` set multiprocessing start method to 'fork'.\n",
      "  warnings.warn(\"For multiprocessing support in `Backtest.optimize()` \"\n"
     ]
    },
    {
     "data": {
      "application/vnd.jupyter.widget-view+json": {
       "model_id": "910debf0d2644026a1a4b031d9749961",
       "version_major": 2,
       "version_minor": 0
      },
      "text/plain": [
       "  0%|          | 0/8 [00:00<?, ?it/s]"
      ]
     },
     "metadata": {},
     "output_type": "display_data"
    },
    {
     "name": "stderr",
     "output_type": "stream",
     "text": [
      "100%|██████████| 8755/8755 [00:00<00:00, 9610.89it/s] \n",
      "100%|██████████| 8755/8755 [00:01<00:00, 5590.13it/s]\n",
      "100%|██████████| 8755/8755 [00:00<00:00, 148619.21it/s]\n",
      "100%|██████████| 8755/8755 [00:00<00:00, 194051.45it/s]\n",
      "100%|██████████| 8755/8755 [00:00<00:00, 88995.25it/s]\n",
      "/Users/andrew/github/trading-strategies/ddd-southwest/common_functions.py:191: UserWarning: Some prices are larger than initial cash value. Note that fractional trading is not supported. If you want to trade Bitcoin, increase initial cash, or trade μBTC or satoshis instead (GH-134).\n",
      "  backtest = Backtest(data, MacdStrategy, cash=cash,\n",
      "/Users/andrew/github/trading-strategies/ddd-southwest/common_functions.py:191: UserWarning: Data index is not datetime. Assuming simple periods, but `pd.DateTimeIndex` is advised.\n",
      "  backtest = Backtest(data, MacdStrategy, cash=cash,\n"
     ]
    },
    {
     "name": "stdout",
     "output_type": "stream",
     "text": [
      "number of trades: 197\n"
     ]
    },
    {
     "name": "stderr",
     "output_type": "stream",
     "text": [
      "/Users/andrew/.pyenv/versions/3.11.4/lib/python3.11/site-packages/backtesting/backtesting.py:1375: UserWarning: For multiprocessing support in `Backtest.optimize()` set multiprocessing start method to 'fork'.\n",
      "  warnings.warn(\"For multiprocessing support in `Backtest.optimize()` \"\n"
     ]
    },
    {
     "data": {
      "application/vnd.jupyter.widget-view+json": {
       "model_id": "2a32fb03420f486599ec526f8ecb3dd5",
       "version_major": 2,
       "version_minor": 0
      },
      "text/plain": [
       "  0%|          | 0/8 [00:00<?, ?it/s]"
      ]
     },
     "metadata": {},
     "output_type": "display_data"
    },
    {
     "name": "stderr",
     "output_type": "stream",
     "text": [
      "100%|██████████| 6156/6156 [00:00<00:00, 10225.23it/s]\n",
      "100%|██████████| 6156/6156 [00:01<00:00, 5586.81it/s]\n",
      "100%|██████████| 6156/6156 [00:00<00:00, 57776.87it/s]\n",
      "100%|██████████| 6156/6156 [00:00<00:00, 230284.02it/s]\n",
      "100%|██████████| 6156/6156 [00:00<00:00, 96719.48it/s]\n"
     ]
    },
    {
     "name": "stdout",
     "output_type": "stream",
     "text": [
      "number of trades: 130\n"
     ]
    },
    {
     "name": "stderr",
     "output_type": "stream",
     "text": [
      "/Users/andrew/github/trading-strategies/ddd-southwest/common_functions.py:191: UserWarning: Data index is not datetime. Assuming simple periods, but `pd.DateTimeIndex` is advised.\n",
      "  backtest = Backtest(data, MacdStrategy, cash=cash,\n",
      "/Users/andrew/.pyenv/versions/3.11.4/lib/python3.11/site-packages/backtesting/backtesting.py:1375: UserWarning: For multiprocessing support in `Backtest.optimize()` set multiprocessing start method to 'fork'.\n",
      "  warnings.warn(\"For multiprocessing support in `Backtest.optimize()` \"\n"
     ]
    },
    {
     "data": {
      "application/vnd.jupyter.widget-view+json": {
       "model_id": "b84849c23a9b41ce9de345aedf69d513",
       "version_major": 2,
       "version_minor": 0
      },
      "text/plain": [
       "  0%|          | 0/8 [00:00<?, ?it/s]"
      ]
     },
     "metadata": {},
     "output_type": "display_data"
    },
    {
     "data": {
      "text/html": [
       "<div>\n",
       "<style scoped>\n",
       "    .dataframe tbody tr th:only-of-type {\n",
       "        vertical-align: middle;\n",
       "    }\n",
       "\n",
       "    .dataframe tbody tr th {\n",
       "        vertical-align: top;\n",
       "    }\n",
       "\n",
       "    .dataframe thead th {\n",
       "        text-align: right;\n",
       "    }\n",
       "</style>\n",
       "<table border=\"1\" class=\"dataframe\">\n",
       "  <thead>\n",
       "    <tr style=\"text-align: right;\">\n",
       "      <th></th>\n",
       "      <th>Index</th>\n",
       "      <th>Buy &amp; Hold Return [%]</th>\n",
       "      <th>Return [%]</th>\n",
       "    </tr>\n",
       "  </thead>\n",
       "  <tbody>\n",
       "    <tr>\n",
       "      <th>0</th>\n",
       "      <td>^ixic</td>\n",
       "      <td>31.377496</td>\n",
       "      <td>12.110339</td>\n",
       "    </tr>\n",
       "    <tr>\n",
       "      <th>1</th>\n",
       "      <td>^GSPC</td>\n",
       "      <td>20.992456</td>\n",
       "      <td>4.511764</td>\n",
       "    </tr>\n",
       "    <tr>\n",
       "      <th>2</th>\n",
       "      <td>^DJI</td>\n",
       "      <td>12.867031</td>\n",
       "      <td>27.415667</td>\n",
       "    </tr>\n",
       "    <tr>\n",
       "      <th>3</th>\n",
       "      <td>^NYA</td>\n",
       "      <td>12.727577</td>\n",
       "      <td>20.074858</td>\n",
       "    </tr>\n",
       "    <tr>\n",
       "      <th>4</th>\n",
       "      <td>^FTSE</td>\n",
       "      <td>1.547797</td>\n",
       "      <td>-2.840804</td>\n",
       "    </tr>\n",
       "    <tr>\n",
       "      <th>5</th>\n",
       "      <td>^HSI</td>\n",
       "      <td>-17.553435</td>\n",
       "      <td>9.670283</td>\n",
       "    </tr>\n",
       "    <tr>\n",
       "      <th>6</th>\n",
       "      <td>^GDAXI</td>\n",
       "      <td>12.515501</td>\n",
       "      <td>13.519869</td>\n",
       "    </tr>\n",
       "    <tr>\n",
       "      <th>7</th>\n",
       "      <td>^FCHI</td>\n",
       "      <td>6.377608</td>\n",
       "      <td>4.405815</td>\n",
       "    </tr>\n",
       "    <tr>\n",
       "      <th>8</th>\n",
       "      <td>BTC-USD</td>\n",
       "      <td>125.547076</td>\n",
       "      <td>182.510529</td>\n",
       "    </tr>\n",
       "    <tr>\n",
       "      <th>9</th>\n",
       "      <td>GBPUSD=X</td>\n",
       "      <td>0.186167</td>\n",
       "      <td>0.000598</td>\n",
       "    </tr>\n",
       "  </tbody>\n",
       "</table>\n",
       "</div>"
      ],
      "text/plain": [
       "      Index  Buy & Hold Return [%]  Return [%]\n",
       "0     ^ixic              31.377496   12.110339\n",
       "1     ^GSPC              20.992456    4.511764\n",
       "2      ^DJI              12.867031   27.415667\n",
       "3      ^NYA              12.727577   20.074858\n",
       "4     ^FTSE               1.547797   -2.840804\n",
       "5      ^HSI             -17.553435    9.670283\n",
       "6    ^GDAXI              12.515501   13.519869\n",
       "7     ^FCHI               6.377608    4.405815\n",
       "8   BTC-USD             125.547076  182.510529\n",
       "9  GBPUSD=X               0.186167    0.000598"
      ]
     },
     "execution_count": 4,
     "metadata": {},
     "output_type": "execute_result"
    }
   ],
   "source": [
    "import common_functions as cf\n",
    "import common_trade_signals as cts\n",
    "import pandas as pd\n",
    "\n",
    "indices = ['^ixic', '^GSPC', '^DJI', '^NYA', '^FTSE', '^HSI', '^GDAXI', '^FCHI', 'BTC-USD', 'EURUSD=X']\n",
    "return_stats = pd.DataFrame(\n",
    "    columns=['Index', 'Buy & Hold Return [%]', 'Return [%]'])\n",
    "\n",
    "for index in indices:\n",
    "    tradingData = cf.read_data(index, '1y', '1h')\n",
    "    cf.set_indicators(tradingData, 200)\n",
    "    cf.set_trade_signals(tradingData, cts.total_macd_ema_trade_signal)\n",
    "    backtest, stats, heatmap = cf.backtest_trading(tradingData, 25000)\n",
    "\n",
    "    return_stats = pd.concat([\n",
    "        return_stats,\n",
    "        pd.DataFrame([[index, stats.loc['Buy & Hold Return [%]'], stats.loc['Return [%]']]], columns=[\n",
    "                     'Index', 'Buy & Hold Return [%]', 'Return [%]'])\n",
    "    ], ignore_index=True)\n",
    "\n",
    "\n",
    "return_stats"
   ]
  },
  {
   "cell_type": "code",
   "execution_count": 2,
   "metadata": {},
   "outputs": [
    {
     "name": "stderr",
     "output_type": "stream",
     "text": [
      "100%|██████████| 1756/1756 [00:00<00:00, 9446.15it/s]\n",
      "100%|██████████| 1756/1756 [00:00<00:00, 5974.66it/s]\n",
      "100%|██████████| 1756/1756 [00:00<00:00, 149129.30it/s]\n",
      "100%|██████████| 1756/1756 [00:00<00:00, 226002.57it/s]\n",
      "100%|██████████| 1756/1756 [00:00<00:00, 125733.17it/s]"
     ]
    },
    {
     "name": "stdout",
     "output_type": "stream",
     "text": [
      "number of trades: 199\n"
     ]
    },
    {
     "name": "stderr",
     "output_type": "stream",
     "text": [
      "\n",
      "/Users/andrew/github/trading-strategies/ddd-southwest/common_functions.py:199: UserWarning: Data index is not datetime. Assuming simple periods, but `pd.DateTimeIndex` is advised.\n",
      "  backtest = Backtest(data, MacdStrategy, cash=cash,\n",
      "/Users/andrew/.pyenv/versions/3.11.4/lib/python3.11/site-packages/backtesting/backtesting.py:1375: UserWarning: For multiprocessing support in `Backtest.optimize()` set multiprocessing start method to 'fork'.\n",
      "  warnings.warn(\"For multiprocessing support in `Backtest.optimize()` \"\n"
     ]
    },
    {
     "data": {
      "application/vnd.jupyter.widget-view+json": {
       "model_id": "b01800eaaac946cc89e9a7592c4b6a77",
       "version_major": 2,
       "version_minor": 0
      },
      "text/plain": [
       "  0%|          | 0/8 [00:00<?, ?it/s]"
      ]
     },
     "metadata": {},
     "output_type": "display_data"
    },
    {
     "name": "stderr",
     "output_type": "stream",
     "text": [
      "/var/folders/rk/xympl3kj42nf5b5zvnt_lrxh0000gn/T/ipykernel_61180/515026509.py:15: FutureWarning: The behavior of DataFrame concatenation with empty or all-NA entries is deprecated. In a future version, this will no longer exclude empty or all-NA columns when determining the result dtypes. To retain the old behavior, exclude the relevant entries before the concat operation.\n",
      "  return_stats = pd.concat([\n",
      "100%|██████████| 1749/1749 [00:00<00:00, 9448.02it/s]\n",
      "100%|██████████| 1749/1749 [00:00<00:00, 4382.61it/s]\n",
      "100%|██████████| 1749/1749 [00:00<00:00, 157566.80it/s]\n",
      "100%|██████████| 1749/1749 [00:00<00:00, 218927.95it/s]\n",
      "100%|██████████| 1749/1749 [00:00<00:00, 120056.92it/s]"
     ]
    },
    {
     "name": "stdout",
     "output_type": "stream",
     "text": [
      "number of trades: 190\n"
     ]
    },
    {
     "name": "stderr",
     "output_type": "stream",
     "text": [
      "\n",
      "/Users/andrew/github/trading-strategies/ddd-southwest/common_functions.py:199: UserWarning: Data index is not datetime. Assuming simple periods, but `pd.DateTimeIndex` is advised.\n",
      "  backtest = Backtest(data, MacdStrategy, cash=cash,\n",
      "/Users/andrew/.pyenv/versions/3.11.4/lib/python3.11/site-packages/backtesting/backtesting.py:1375: UserWarning: For multiprocessing support in `Backtest.optimize()` set multiprocessing start method to 'fork'.\n",
      "  warnings.warn(\"For multiprocessing support in `Backtest.optimize()` \"\n"
     ]
    },
    {
     "data": {
      "application/vnd.jupyter.widget-view+json": {
       "model_id": "84565ed668a748ff914bb6c9d9135333",
       "version_major": 2,
       "version_minor": 0
      },
      "text/plain": [
       "  0%|          | 0/8 [00:00<?, ?it/s]"
      ]
     },
     "metadata": {},
     "output_type": "display_data"
    },
    {
     "name": "stderr",
     "output_type": "stream",
     "text": [
      "100%|██████████| 1749/1749 [00:00<00:00, 9758.13it/s]\n",
      "100%|██████████| 1749/1749 [00:00<00:00, 5952.63it/s]\n",
      "100%|██████████| 1749/1749 [00:00<00:00, 151993.99it/s]\n",
      "100%|██████████| 1749/1749 [00:00<00:00, 196697.62it/s]\n",
      "100%|██████████| 1749/1749 [00:00<00:00, 125682.53it/s]"
     ]
    },
    {
     "name": "stdout",
     "output_type": "stream",
     "text": [
      "number of trades: 196\n"
     ]
    },
    {
     "name": "stderr",
     "output_type": "stream",
     "text": [
      "\n",
      "/Users/andrew/github/trading-strategies/ddd-southwest/common_functions.py:199: UserWarning: Some prices are larger than initial cash value. Note that fractional trading is not supported. If you want to trade Bitcoin, increase initial cash, or trade μBTC or satoshis instead (GH-134).\n",
      "  backtest = Backtest(data, MacdStrategy, cash=cash,\n",
      "/Users/andrew/github/trading-strategies/ddd-southwest/common_functions.py:199: UserWarning: Data index is not datetime. Assuming simple periods, but `pd.DateTimeIndex` is advised.\n",
      "  backtest = Backtest(data, MacdStrategy, cash=cash,\n",
      "/Users/andrew/.pyenv/versions/3.11.4/lib/python3.11/site-packages/backtesting/backtesting.py:1375: UserWarning: For multiprocessing support in `Backtest.optimize()` set multiprocessing start method to 'fork'.\n",
      "  warnings.warn(\"For multiprocessing support in `Backtest.optimize()` \"\n"
     ]
    },
    {
     "data": {
      "application/vnd.jupyter.widget-view+json": {
       "model_id": "53103f8a764948caae695d899824f180",
       "version_major": 2,
       "version_minor": 0
      },
      "text/plain": [
       "  0%|          | 0/8 [00:00<?, ?it/s]"
      ]
     },
     "metadata": {},
     "output_type": "display_data"
    },
    {
     "name": "stderr",
     "output_type": "stream",
     "text": [
      "100%|██████████| 1749/1749 [00:00<00:00, 7122.82it/s]\n",
      "100%|██████████| 1749/1749 [00:00<00:00, 6050.58it/s]\n",
      "100%|██████████| 1749/1749 [00:00<00:00, 153610.81it/s]\n",
      "100%|██████████| 1749/1749 [00:00<00:00, 224056.62it/s]\n",
      "100%|██████████| 1749/1749 [00:00<00:00, 125007.88it/s]"
     ]
    },
    {
     "name": "stdout",
     "output_type": "stream",
     "text": [
      "number of trades: 198\n"
     ]
    },
    {
     "name": "stderr",
     "output_type": "stream",
     "text": [
      "\n",
      "/Users/andrew/github/trading-strategies/ddd-southwest/common_functions.py:199: UserWarning: Data index is not datetime. Assuming simple periods, but `pd.DateTimeIndex` is advised.\n",
      "  backtest = Backtest(data, MacdStrategy, cash=cash,\n",
      "/Users/andrew/.pyenv/versions/3.11.4/lib/python3.11/site-packages/backtesting/backtesting.py:1375: UserWarning: For multiprocessing support in `Backtest.optimize()` set multiprocessing start method to 'fork'.\n",
      "  warnings.warn(\"For multiprocessing support in `Backtest.optimize()` \"\n"
     ]
    },
    {
     "data": {
      "application/vnd.jupyter.widget-view+json": {
       "model_id": "6a756f252ea3483291bb14d82fc1accc",
       "version_major": 2,
       "version_minor": 0
      },
      "text/plain": [
       "  0%|          | 0/8 [00:00<?, ?it/s]"
      ]
     },
     "metadata": {},
     "output_type": "display_data"
    },
    {
     "name": "stderr",
     "output_type": "stream",
     "text": [
      "100%|██████████| 2258/2258 [00:00<00:00, 10300.81it/s]\n",
      "100%|██████████| 2258/2258 [00:00<00:00, 5235.49it/s]\n",
      "100%|██████████| 2258/2258 [00:00<00:00, 157638.08it/s]\n",
      "100%|██████████| 2258/2258 [00:00<00:00, 218355.62it/s]\n",
      "100%|██████████| 2258/2258 [00:00<00:00, 108867.82it/s]\n",
      "/Users/andrew/github/trading-strategies/ddd-southwest/common_functions.py:199: UserWarning: Data index is not datetime. Assuming simple periods, but `pd.DateTimeIndex` is advised.\n",
      "  backtest = Backtest(data, MacdStrategy, cash=cash,\n"
     ]
    },
    {
     "name": "stdout",
     "output_type": "stream",
     "text": [
      "number of trades: 253\n"
     ]
    },
    {
     "name": "stderr",
     "output_type": "stream",
     "text": [
      "/Users/andrew/.pyenv/versions/3.11.4/lib/python3.11/site-packages/backtesting/backtesting.py:1375: UserWarning: For multiprocessing support in `Backtest.optimize()` set multiprocessing start method to 'fork'.\n",
      "  warnings.warn(\"For multiprocessing support in `Backtest.optimize()` \"\n"
     ]
    },
    {
     "data": {
      "application/vnd.jupyter.widget-view+json": {
       "model_id": "58d8944bae4440fa8eb0f3b84302c3e2",
       "version_major": 2,
       "version_minor": 0
      },
      "text/plain": [
       "  0%|          | 0/8 [00:00<?, ?it/s]"
      ]
     },
     "metadata": {},
     "output_type": "display_data"
    },
    {
     "name": "stderr",
     "output_type": "stream",
     "text": [
      "100%|██████████| 1706/1706 [00:00<00:00, 10690.50it/s]\n",
      "100%|██████████| 1706/1706 [00:00<00:00, 6032.89it/s]\n",
      "100%|██████████| 1706/1706 [00:00<00:00, 149962.96it/s]\n",
      "100%|██████████| 1706/1706 [00:00<00:00, 181371.86it/s]\n",
      "100%|██████████| 1706/1706 [00:00<00:00, 126343.83it/s]"
     ]
    },
    {
     "name": "stdout",
     "output_type": "stream",
     "text": [
      "number of trades: 196\n"
     ]
    },
    {
     "name": "stderr",
     "output_type": "stream",
     "text": [
      "\n",
      "/Users/andrew/github/trading-strategies/ddd-southwest/common_functions.py:199: UserWarning: Data index is not datetime. Assuming simple periods, but `pd.DateTimeIndex` is advised.\n",
      "  backtest = Backtest(data, MacdStrategy, cash=cash,\n",
      "/Users/andrew/.pyenv/versions/3.11.4/lib/python3.11/site-packages/backtesting/backtesting.py:1375: UserWarning: For multiprocessing support in `Backtest.optimize()` set multiprocessing start method to 'fork'.\n",
      "  warnings.warn(\"For multiprocessing support in `Backtest.optimize()` \"\n"
     ]
    },
    {
     "data": {
      "application/vnd.jupyter.widget-view+json": {
       "model_id": "6dd7ffd2d1eb48b1876a81ae72e929fb",
       "version_major": 2,
       "version_minor": 0
      },
      "text/plain": [
       "  0%|          | 0/8 [00:00<?, ?it/s]"
      ]
     },
     "metadata": {},
     "output_type": "display_data"
    },
    {
     "name": "stderr",
     "output_type": "stream",
     "text": [
      "100%|██████████| 2291/2291 [00:00<00:00, 9892.00it/s] \n",
      "100%|██████████| 2291/2291 [00:00<00:00, 5269.08it/s]\n",
      "100%|██████████| 2291/2291 [00:00<00:00, 164253.37it/s]\n",
      "100%|██████████| 2291/2291 [00:00<00:00, 224387.04it/s]\n",
      "100%|██████████| 2291/2291 [00:00<00:00, 120796.88it/s]\n",
      "/Users/andrew/github/trading-strategies/ddd-southwest/common_functions.py:199: UserWarning: Data index is not datetime. Assuming simple periods, but `pd.DateTimeIndex` is advised.\n",
      "  backtest = Backtest(data, MacdStrategy, cash=cash,\n"
     ]
    },
    {
     "name": "stdout",
     "output_type": "stream",
     "text": [
      "number of trades: 229\n"
     ]
    },
    {
     "name": "stderr",
     "output_type": "stream",
     "text": [
      "/Users/andrew/.pyenv/versions/3.11.4/lib/python3.11/site-packages/backtesting/backtesting.py:1375: UserWarning: For multiprocessing support in `Backtest.optimize()` set multiprocessing start method to 'fork'.\n",
      "  warnings.warn(\"For multiprocessing support in `Backtest.optimize()` \"\n"
     ]
    },
    {
     "data": {
      "application/vnd.jupyter.widget-view+json": {
       "model_id": "add9022b54964c95a612df8d2f6cba71",
       "version_major": 2,
       "version_minor": 0
      },
      "text/plain": [
       "  0%|          | 0/8 [00:00<?, ?it/s]"
      ]
     },
     "metadata": {},
     "output_type": "display_data"
    },
    {
     "name": "stderr",
     "output_type": "stream",
     "text": [
      "100%|██████████| 2295/2295 [00:00<00:00, 9315.75it/s]\n",
      "100%|██████████| 2295/2295 [00:00<00:00, 6090.45it/s]\n",
      "100%|██████████| 2295/2295 [00:00<00:00, 157137.48it/s]\n",
      "100%|██████████| 2295/2295 [00:00<00:00, 215958.71it/s]\n",
      "100%|██████████| 2295/2295 [00:00<00:00, 116727.43it/s]"
     ]
    },
    {
     "name": "stdout",
     "output_type": "stream",
     "text": [
      "number of trades: 222\n"
     ]
    },
    {
     "name": "stderr",
     "output_type": "stream",
     "text": [
      "\n",
      "/Users/andrew/github/trading-strategies/ddd-southwest/common_functions.py:199: UserWarning: Data index is not datetime. Assuming simple periods, but `pd.DateTimeIndex` is advised.\n",
      "  backtest = Backtest(data, MacdStrategy, cash=cash,\n",
      "/Users/andrew/.pyenv/versions/3.11.4/lib/python3.11/site-packages/backtesting/backtesting.py:1375: UserWarning: For multiprocessing support in `Backtest.optimize()` set multiprocessing start method to 'fork'.\n",
      "  warnings.warn(\"For multiprocessing support in `Backtest.optimize()` \"\n"
     ]
    },
    {
     "data": {
      "application/vnd.jupyter.widget-view+json": {
       "model_id": "50f4dd68af0b4e37a6711ce4fb119dff",
       "version_major": 2,
       "version_minor": 0
      },
      "text/plain": [
       "  0%|          | 0/8 [00:00<?, ?it/s]"
      ]
     },
     "metadata": {},
     "output_type": "display_data"
    },
    {
     "name": "stderr",
     "output_type": "stream",
     "text": [
      "100%|██████████| 8755/8755 [00:00<00:00, 9111.80it/s] \n",
      "100%|██████████| 8755/8755 [00:01<00:00, 5989.75it/s]\n",
      "100%|██████████| 8755/8755 [00:00<00:00, 159216.13it/s]\n",
      "100%|██████████| 8755/8755 [00:00<00:00, 210709.18it/s]\n",
      "100%|██████████| 8755/8755 [00:00<00:00, 122462.96it/s]\n",
      "/Users/andrew/github/trading-strategies/ddd-southwest/common_functions.py:199: UserWarning: Some prices are larger than initial cash value. Note that fractional trading is not supported. If you want to trade Bitcoin, increase initial cash, or trade μBTC or satoshis instead (GH-134).\n",
      "  backtest = Backtest(data, MacdStrategy, cash=cash,\n",
      "/Users/andrew/github/trading-strategies/ddd-southwest/common_functions.py:199: UserWarning: Data index is not datetime. Assuming simple periods, but `pd.DateTimeIndex` is advised.\n",
      "  backtest = Backtest(data, MacdStrategy, cash=cash,\n"
     ]
    },
    {
     "name": "stdout",
     "output_type": "stream",
     "text": [
      "number of trades: 1015\n"
     ]
    },
    {
     "name": "stderr",
     "output_type": "stream",
     "text": [
      "/Users/andrew/.pyenv/versions/3.11.4/lib/python3.11/site-packages/backtesting/backtesting.py:1375: UserWarning: For multiprocessing support in `Backtest.optimize()` set multiprocessing start method to 'fork'.\n",
      "  warnings.warn(\"For multiprocessing support in `Backtest.optimize()` \"\n"
     ]
    },
    {
     "data": {
      "application/vnd.jupyter.widget-view+json": {
       "model_id": "1fff42d431f44ec7b7f8f94fe777efad",
       "version_major": 2,
       "version_minor": 0
      },
      "text/plain": [
       "  0%|          | 0/8 [00:00<?, ?it/s]"
      ]
     },
     "metadata": {},
     "output_type": "display_data"
    },
    {
     "name": "stderr",
     "output_type": "stream",
     "text": [
      "100%|██████████| 6158/6158 [00:00<00:00, 8964.29it/s] \n",
      "100%|██████████| 6158/6158 [00:01<00:00, 5771.68it/s]\n",
      "100%|██████████| 6158/6158 [00:00<00:00, 135073.00it/s]\n",
      "100%|██████████| 6158/6158 [00:00<00:00, 197840.89it/s]\n",
      "100%|██████████| 6158/6158 [00:00<00:00, 113629.37it/s]\n",
      "/Users/andrew/github/trading-strategies/ddd-southwest/common_functions.py:199: UserWarning: Data index is not datetime. Assuming simple periods, but `pd.DateTimeIndex` is advised.\n",
      "  backtest = Backtest(data, MacdStrategy, cash=cash,\n"
     ]
    },
    {
     "name": "stdout",
     "output_type": "stream",
     "text": [
      "number of trades: 816\n"
     ]
    },
    {
     "name": "stderr",
     "output_type": "stream",
     "text": [
      "/Users/andrew/.pyenv/versions/3.11.4/lib/python3.11/site-packages/backtesting/backtesting.py:1375: UserWarning: For multiprocessing support in `Backtest.optimize()` set multiprocessing start method to 'fork'.\n",
      "  warnings.warn(\"For multiprocessing support in `Backtest.optimize()` \"\n"
     ]
    },
    {
     "data": {
      "application/vnd.jupyter.widget-view+json": {
       "model_id": "74aebec1b9d94d8fac0f4b4b08b392cd",
       "version_major": 2,
       "version_minor": 0
      },
      "text/plain": [
       "  0%|          | 0/8 [00:00<?, ?it/s]"
      ]
     },
     "metadata": {},
     "output_type": "display_data"
    },
    {
     "data": {
      "text/html": [
       "<div>\n",
       "<style scoped>\n",
       "    .dataframe tbody tr th:only-of-type {\n",
       "        vertical-align: middle;\n",
       "    }\n",
       "\n",
       "    .dataframe tbody tr th {\n",
       "        vertical-align: top;\n",
       "    }\n",
       "\n",
       "    .dataframe thead th {\n",
       "        text-align: right;\n",
       "    }\n",
       "</style>\n",
       "<table border=\"1\" class=\"dataframe\">\n",
       "  <thead>\n",
       "    <tr style=\"text-align: right;\">\n",
       "      <th></th>\n",
       "      <th>Index</th>\n",
       "      <th>Buy &amp; Hold Return [%]</th>\n",
       "      <th>Return [%]</th>\n",
       "    </tr>\n",
       "  </thead>\n",
       "  <tbody>\n",
       "    <tr>\n",
       "      <th>0</th>\n",
       "      <td>^ixic</td>\n",
       "      <td>31.377496</td>\n",
       "      <td>34.045835</td>\n",
       "    </tr>\n",
       "    <tr>\n",
       "      <th>1</th>\n",
       "      <td>^GSPC</td>\n",
       "      <td>20.992456</td>\n",
       "      <td>6.978810</td>\n",
       "    </tr>\n",
       "    <tr>\n",
       "      <th>2</th>\n",
       "      <td>^DJI</td>\n",
       "      <td>12.867031</td>\n",
       "      <td>25.748380</td>\n",
       "    </tr>\n",
       "    <tr>\n",
       "      <th>3</th>\n",
       "      <td>^NYA</td>\n",
       "      <td>12.727577</td>\n",
       "      <td>11.048715</td>\n",
       "    </tr>\n",
       "    <tr>\n",
       "      <th>4</th>\n",
       "      <td>^FTSE</td>\n",
       "      <td>1.547797</td>\n",
       "      <td>19.930329</td>\n",
       "    </tr>\n",
       "    <tr>\n",
       "      <th>5</th>\n",
       "      <td>^HSI</td>\n",
       "      <td>-17.553435</td>\n",
       "      <td>26.459994</td>\n",
       "    </tr>\n",
       "    <tr>\n",
       "      <th>6</th>\n",
       "      <td>^GDAXI</td>\n",
       "      <td>12.515501</td>\n",
       "      <td>27.332518</td>\n",
       "    </tr>\n",
       "    <tr>\n",
       "      <th>7</th>\n",
       "      <td>^FCHI</td>\n",
       "      <td>6.377608</td>\n",
       "      <td>6.605057</td>\n",
       "    </tr>\n",
       "    <tr>\n",
       "      <th>8</th>\n",
       "      <td>BTC-USD</td>\n",
       "      <td>125.547076</td>\n",
       "      <td>205.284176</td>\n",
       "    </tr>\n",
       "    <tr>\n",
       "      <th>9</th>\n",
       "      <td>EURUSD=X</td>\n",
       "      <td>-3.197864</td>\n",
       "      <td>0.000335</td>\n",
       "    </tr>\n",
       "  </tbody>\n",
       "</table>\n",
       "</div>"
      ],
      "text/plain": [
       "      Index  Buy & Hold Return [%]  Return [%]\n",
       "0     ^ixic              31.377496   34.045835\n",
       "1     ^GSPC              20.992456    6.978810\n",
       "2      ^DJI              12.867031   25.748380\n",
       "3      ^NYA              12.727577   11.048715\n",
       "4     ^FTSE               1.547797   19.930329\n",
       "5      ^HSI             -17.553435   26.459994\n",
       "6    ^GDAXI              12.515501   27.332518\n",
       "7     ^FCHI               6.377608    6.605057\n",
       "8   BTC-USD             125.547076  205.284176\n",
       "9  EURUSD=X              -3.197864    0.000335"
      ]
     },
     "execution_count": 2,
     "metadata": {},
     "output_type": "execute_result"
    }
   ],
   "source": [
    "import common_functions as cf\n",
    "import common_trade_signals as cts\n",
    "import pandas as pd\n",
    "\n",
    "indices = ['^ixic', '^GSPC', '^DJI', '^NYA', '^FTSE', '^HSI', '^GDAXI', '^FCHI', 'BTC-USD', 'EURUSD=X']\n",
    "return_stats = pd.DataFrame(\n",
    "    columns=['Index', 'Buy & Hold Return [%]', 'Return [%]'])\n",
    "\n",
    "for index in indices:\n",
    "    tradingData = cf.read_data(index, '1y', '1h')\n",
    "    cf.set_indicators(tradingData, 200)\n",
    "    cf.set_trade_signals(tradingData, cts.total_bolinger_band_signal)\n",
    "    backtest, stats, heatmap = cf.backtest_trading(tradingData, 25000)\n",
    "\n",
    "    return_stats = pd.concat([\n",
    "        return_stats,\n",
    "        pd.DataFrame([[index, stats.loc['Buy & Hold Return [%]'], stats.loc['Return [%]']]], columns=[\n",
    "                     'Index', 'Buy & Hold Return [%]', 'Return [%]'])\n",
    "    ], ignore_index=True)\n",
    "\n",
    "\n",
    "return_stats"
   ]
  }
 ],
 "metadata": {
  "kernelspec": {
   "display_name": "Python 3",
   "language": "python",
   "name": "python3"
  },
  "language_info": {
   "codemirror_mode": {
    "name": "ipython",
    "version": 3
   },
   "file_extension": ".py",
   "mimetype": "text/x-python",
   "name": "python",
   "nbconvert_exporter": "python",
   "pygments_lexer": "ipython3",
   "version": "3.11.4"
  }
 },
 "nbformat": 4,
 "nbformat_minor": 2
}
