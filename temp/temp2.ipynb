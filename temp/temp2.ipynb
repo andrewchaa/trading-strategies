{
 "cells": [
  {
   "cell_type": "code",
   "execution_count": 7,
   "metadata": {},
   "outputs": [
    {
     "name": "stdout",
     "output_type": "stream",
     "text": [
      "Starting Portfolio Value: 100000.00\n"
     ]
    },
    {
     "ename": "AttributeError",
     "evalue": "'Lines_LineSeries_LineIterator_DataAccessor_Strateg' object has no attribute 'macd'",
     "output_type": "error",
     "traceback": [
      "\u001b[0;31m---------------------------------------------------------------------------\u001b[0m",
      "\u001b[0;31mAttributeError\u001b[0m                            Traceback (most recent call last)",
      "Cell \u001b[0;32mIn[7], line 57\u001b[0m\n\u001b[1;32m     55\u001b[0m data[\u001b[38;5;124m'\u001b[39m\u001b[38;5;124mDatetime\u001b[39m\u001b[38;5;124m'\u001b[39m] \u001b[38;5;241m=\u001b[39m pd\u001b[38;5;241m.\u001b[39mto_datetime(data[\u001b[38;5;124m'\u001b[39m\u001b[38;5;124mDatetime\u001b[39m\u001b[38;5;124m'\u001b[39m], utc\u001b[38;5;241m=\u001b[39m\u001b[38;5;28;01mTrue\u001b[39;00m)\n\u001b[1;32m     56\u001b[0m data\u001b[38;5;241m.\u001b[39mset_index(\u001b[38;5;124m'\u001b[39m\u001b[38;5;124mDatetime\u001b[39m\u001b[38;5;124m'\u001b[39m, inplace\u001b[38;5;241m=\u001b[39m\u001b[38;5;28;01mTrue\u001b[39;00m)\n\u001b[0;32m---> 57\u001b[0m \u001b[43mrun_backtest\u001b[49m\u001b[43m(\u001b[49m\u001b[43mdata\u001b[49m\u001b[43m)\u001b[49m\n",
      "Cell \u001b[0;32mIn[7], line 46\u001b[0m, in \u001b[0;36mrun_backtest\u001b[0;34m(data)\u001b[0m\n\u001b[1;32m     42\u001b[0m cerebro\u001b[38;5;241m.\u001b[39mbroker\u001b[38;5;241m.\u001b[39msetcash(\u001b[38;5;241m100000\u001b[39m)  \u001b[38;5;66;03m# Set initial cash\u001b[39;00m\n\u001b[1;32m     44\u001b[0m \u001b[38;5;28mprint\u001b[39m(\u001b[38;5;124m'\u001b[39m\u001b[38;5;124mStarting Portfolio Value: \u001b[39m\u001b[38;5;132;01m%.2f\u001b[39;00m\u001b[38;5;124m'\u001b[39m \u001b[38;5;241m%\u001b[39m cerebro\u001b[38;5;241m.\u001b[39mbroker\u001b[38;5;241m.\u001b[39mgetvalue())\n\u001b[0;32m---> 46\u001b[0m \u001b[43mcerebro\u001b[49m\u001b[38;5;241;43m.\u001b[39;49m\u001b[43mrun\u001b[49m\u001b[43m(\u001b[49m\u001b[43m)\u001b[49m\n\u001b[1;32m     48\u001b[0m \u001b[38;5;28mprint\u001b[39m(\u001b[38;5;124m'\u001b[39m\u001b[38;5;124mFinal Portfolio Value: \u001b[39m\u001b[38;5;132;01m%.2f\u001b[39;00m\u001b[38;5;124m'\u001b[39m \u001b[38;5;241m%\u001b[39m cerebro\u001b[38;5;241m.\u001b[39mbroker\u001b[38;5;241m.\u001b[39mgetvalue())\n",
      "File \u001b[0;32m~/.pyenv/versions/3.11.4/lib/python3.11/site-packages/backtrader/cerebro.py:1132\u001b[0m, in \u001b[0;36mCerebro.run\u001b[0;34m(self, **kwargs)\u001b[0m\n\u001b[1;32m   1128\u001b[0m \u001b[38;5;28;01mif\u001b[39;00m \u001b[38;5;129;01mnot\u001b[39;00m \u001b[38;5;28mself\u001b[39m\u001b[38;5;241m.\u001b[39m_dooptimize \u001b[38;5;129;01mor\u001b[39;00m \u001b[38;5;28mself\u001b[39m\u001b[38;5;241m.\u001b[39mp\u001b[38;5;241m.\u001b[39mmaxcpus \u001b[38;5;241m==\u001b[39m \u001b[38;5;241m1\u001b[39m:\n\u001b[1;32m   1129\u001b[0m     \u001b[38;5;66;03m# If no optimmization is wished ... or 1 core is to be used\u001b[39;00m\n\u001b[1;32m   1130\u001b[0m     \u001b[38;5;66;03m# let's skip process \"spawning\"\u001b[39;00m\n\u001b[1;32m   1131\u001b[0m     \u001b[38;5;28;01mfor\u001b[39;00m iterstrat \u001b[38;5;129;01min\u001b[39;00m iterstrats:\n\u001b[0;32m-> 1132\u001b[0m         runstrat \u001b[38;5;241m=\u001b[39m \u001b[38;5;28;43mself\u001b[39;49m\u001b[38;5;241;43m.\u001b[39;49m\u001b[43mrunstrategies\u001b[49m\u001b[43m(\u001b[49m\u001b[43miterstrat\u001b[49m\u001b[43m)\u001b[49m\n\u001b[1;32m   1133\u001b[0m         \u001b[38;5;28mself\u001b[39m\u001b[38;5;241m.\u001b[39mrunstrats\u001b[38;5;241m.\u001b[39mappend(runstrat)\n\u001b[1;32m   1134\u001b[0m         \u001b[38;5;28;01mif\u001b[39;00m \u001b[38;5;28mself\u001b[39m\u001b[38;5;241m.\u001b[39m_dooptimize:\n",
      "File \u001b[0;32m~/.pyenv/versions/3.11.4/lib/python3.11/site-packages/backtrader/cerebro.py:1298\u001b[0m, in \u001b[0;36mCerebro.runstrategies\u001b[0;34m(self, iterstrat, predata)\u001b[0m\n\u001b[1;32m   1296\u001b[0m         \u001b[38;5;28mself\u001b[39m\u001b[38;5;241m.\u001b[39m_runonce_old(runstrats)\n\u001b[1;32m   1297\u001b[0m     \u001b[38;5;28;01melse\u001b[39;00m:\n\u001b[0;32m-> 1298\u001b[0m         \u001b[38;5;28;43mself\u001b[39;49m\u001b[38;5;241;43m.\u001b[39;49m\u001b[43m_runonce\u001b[49m\u001b[43m(\u001b[49m\u001b[43mrunstrats\u001b[49m\u001b[43m)\u001b[49m\n\u001b[1;32m   1299\u001b[0m \u001b[38;5;28;01melse\u001b[39;00m:\n\u001b[1;32m   1300\u001b[0m     \u001b[38;5;28;01mif\u001b[39;00m \u001b[38;5;28mself\u001b[39m\u001b[38;5;241m.\u001b[39mp\u001b[38;5;241m.\u001b[39moldsync:\n",
      "File \u001b[0;32m~/.pyenv/versions/3.11.4/lib/python3.11/site-packages/backtrader/cerebro.py:1700\u001b[0m, in \u001b[0;36mCerebro._runonce\u001b[0;34m(self, runstrats)\u001b[0m\n\u001b[1;32m   1697\u001b[0m \u001b[38;5;28mself\u001b[39m\u001b[38;5;241m.\u001b[39m_check_timers(runstrats, dt0, cheat\u001b[38;5;241m=\u001b[39m\u001b[38;5;28;01mFalse\u001b[39;00m)\n\u001b[1;32m   1699\u001b[0m \u001b[38;5;28;01mfor\u001b[39;00m strat \u001b[38;5;129;01min\u001b[39;00m runstrats:\n\u001b[0;32m-> 1700\u001b[0m     \u001b[43mstrat\u001b[49m\u001b[38;5;241;43m.\u001b[39;49m\u001b[43m_oncepost\u001b[49m\u001b[43m(\u001b[49m\u001b[43mdt0\u001b[49m\u001b[43m)\u001b[49m\n\u001b[1;32m   1701\u001b[0m     \u001b[38;5;28;01mif\u001b[39;00m \u001b[38;5;28mself\u001b[39m\u001b[38;5;241m.\u001b[39m_event_stop:  \u001b[38;5;66;03m# stop if requested\u001b[39;00m\n\u001b[1;32m   1702\u001b[0m         \u001b[38;5;28;01mreturn\u001b[39;00m\n",
      "File \u001b[0;32m~/.pyenv/versions/3.11.4/lib/python3.11/site-packages/backtrader/strategy.py:311\u001b[0m, in \u001b[0;36mStrategy._oncepost\u001b[0;34m(self, dt)\u001b[0m\n\u001b[1;32m    309\u001b[0m     \u001b[38;5;28mself\u001b[39m\u001b[38;5;241m.\u001b[39mnext()\n\u001b[1;32m    310\u001b[0m \u001b[38;5;28;01melif\u001b[39;00m minperstatus \u001b[38;5;241m==\u001b[39m \u001b[38;5;241m0\u001b[39m:\n\u001b[0;32m--> 311\u001b[0m     \u001b[38;5;28;43mself\u001b[39;49m\u001b[38;5;241;43m.\u001b[39;49m\u001b[43mnextstart\u001b[49m\u001b[43m(\u001b[49m\u001b[43m)\u001b[49m  \u001b[38;5;66;03m# only called for the 1st value\u001b[39;00m\n\u001b[1;32m    312\u001b[0m \u001b[38;5;28;01melse\u001b[39;00m:\n\u001b[1;32m    313\u001b[0m     \u001b[38;5;28mself\u001b[39m\u001b[38;5;241m.\u001b[39mprenext()\n",
      "File \u001b[0;32m~/.pyenv/versions/3.11.4/lib/python3.11/site-packages/backtrader/lineiterator.py:347\u001b[0m, in \u001b[0;36mLineIterator.nextstart\u001b[0;34m(self)\u001b[0m\n\u001b[1;32m    340\u001b[0m \u001b[38;5;250m\u001b[39m\u001b[38;5;124;03m'''\u001b[39;00m\n\u001b[1;32m    341\u001b[0m \u001b[38;5;124;03mThis method will be called once, exactly when the minimum period for\u001b[39;00m\n\u001b[1;32m    342\u001b[0m \u001b[38;5;124;03mall datas/indicators have been meet. The default behavior is to call\u001b[39;00m\n\u001b[1;32m    343\u001b[0m \u001b[38;5;124;03mnext\u001b[39;00m\n\u001b[1;32m    344\u001b[0m \u001b[38;5;124;03m'''\u001b[39;00m\n\u001b[1;32m    346\u001b[0m \u001b[38;5;66;03m# Called once for 1st full calculation - defaults to regular next\u001b[39;00m\n\u001b[0;32m--> 347\u001b[0m \u001b[38;5;28;43mself\u001b[39;49m\u001b[38;5;241;43m.\u001b[39;49m\u001b[43mnext\u001b[49m\u001b[43m(\u001b[49m\u001b[43m)\u001b[49m\n",
      "Cell \u001b[0;32mIn[7], line 24\u001b[0m, in \u001b[0;36mMACDRSIStrategy.next\u001b[0;34m(self)\u001b[0m\n\u001b[1;32m     23\u001b[0m \u001b[38;5;28;01mdef\u001b[39;00m \u001b[38;5;21mnext\u001b[39m(\u001b[38;5;28mself\u001b[39m):\n\u001b[0;32m---> 24\u001b[0m     \u001b[38;5;28;01mif\u001b[39;00m \u001b[38;5;28;43mself\u001b[39;49m\u001b[38;5;241;43m.\u001b[39;49m\u001b[43mmacd\u001b[49m\u001b[38;5;241m.\u001b[39mmacd[\u001b[38;5;241m0\u001b[39m] \u001b[38;5;241m>\u001b[39m \u001b[38;5;241m0\u001b[39m \u001b[38;5;129;01mand\u001b[39;00m \u001b[38;5;28mself\u001b[39m\u001b[38;5;241m.\u001b[39mmacd\u001b[38;5;241m.\u001b[39mmacd[\u001b[38;5;241m0\u001b[39m] \u001b[38;5;241m>\u001b[39m \u001b[38;5;28mself\u001b[39m\u001b[38;5;241m.\u001b[39mmacd\u001b[38;5;241m.\u001b[39msignal[\u001b[38;5;241m0\u001b[39m] \u001b[38;5;129;01mand\u001b[39;00m \\\n\u001b[1;32m     25\u001b[0m             \u001b[38;5;28mself\u001b[39m\u001b[38;5;241m.\u001b[39mrsi \u001b[38;5;241m<\u001b[39m \u001b[38;5;241m30\u001b[39m \u001b[38;5;129;01mand\u001b[39;00m \u001b[38;5;28mself\u001b[39m\u001b[38;5;241m.\u001b[39mstoch\u001b[38;5;241m.\u001b[39mlines\u001b[38;5;241m.\u001b[39mpercK \u001b[38;5;241m<\u001b[39m \u001b[38;5;241m20\u001b[39m:\n\u001b[1;32m     26\u001b[0m         \u001b[38;5;66;03m# Buy signal\u001b[39;00m\n\u001b[1;32m     27\u001b[0m         \u001b[38;5;28mself\u001b[39m\u001b[38;5;241m.\u001b[39mbuy()\n\u001b[1;32m     29\u001b[0m     \u001b[38;5;28;01melif\u001b[39;00m \u001b[38;5;28mself\u001b[39m\u001b[38;5;241m.\u001b[39mmacd\u001b[38;5;241m.\u001b[39mmacd[\u001b[38;5;241m0\u001b[39m] \u001b[38;5;241m<\u001b[39m \u001b[38;5;241m0\u001b[39m \u001b[38;5;129;01mand\u001b[39;00m \u001b[38;5;28mself\u001b[39m\u001b[38;5;241m.\u001b[39mmacd\u001b[38;5;241m.\u001b[39mmacd[\u001b[38;5;241m0\u001b[39m] \u001b[38;5;241m<\u001b[39m \u001b[38;5;28mself\u001b[39m\u001b[38;5;241m.\u001b[39mmacd\u001b[38;5;241m.\u001b[39msignal[\u001b[38;5;241m0\u001b[39m] \u001b[38;5;129;01mand\u001b[39;00m \\\n\u001b[1;32m     30\u001b[0m             \u001b[38;5;28mself\u001b[39m\u001b[38;5;241m.\u001b[39mrsi \u001b[38;5;241m>\u001b[39m \u001b[38;5;241m70\u001b[39m \u001b[38;5;129;01mand\u001b[39;00m \u001b[38;5;28mself\u001b[39m\u001b[38;5;241m.\u001b[39mstoch\u001b[38;5;241m.\u001b[39mlines\u001b[38;5;241m.\u001b[39mpercK \u001b[38;5;241m>\u001b[39m \u001b[38;5;241m80\u001b[39m:\n\u001b[1;32m     31\u001b[0m         \u001b[38;5;66;03m# Sell signal\u001b[39;00m\n",
      "File \u001b[0;32m~/.pyenv/versions/3.11.4/lib/python3.11/site-packages/backtrader/lineseries.py:461\u001b[0m, in \u001b[0;36mLineSeries.__getattr__\u001b[0;34m(self, name)\u001b[0m\n\u001b[1;32m    457\u001b[0m \u001b[38;5;28;01mdef\u001b[39;00m \u001b[38;5;21m__getattr__\u001b[39m(\u001b[38;5;28mself\u001b[39m, name):\n\u001b[1;32m    458\u001b[0m     \u001b[38;5;66;03m# to refer to line by name directly if the attribute was not found\u001b[39;00m\n\u001b[1;32m    459\u001b[0m     \u001b[38;5;66;03m# in this object if we set an attribute in this object it will be\u001b[39;00m\n\u001b[1;32m    460\u001b[0m     \u001b[38;5;66;03m# found before we end up here\u001b[39;00m\n\u001b[0;32m--> 461\u001b[0m     \u001b[38;5;28;01mreturn\u001b[39;00m \u001b[38;5;28mgetattr\u001b[39m(\u001b[38;5;28mself\u001b[39m\u001b[38;5;241m.\u001b[39mlines, name)\n",
      "\u001b[0;31mAttributeError\u001b[0m: 'Lines_LineSeries_LineIterator_DataAccessor_Strateg' object has no attribute 'macd'"
     ]
    }
   ],
   "source": [
    "import backtrader as bt\n",
    "import pandas as pd\n",
    "\n",
    "class MACDRSIStrategy(bt.Strategy):\n",
    "    params = (\n",
    "        ('macd1_period', 12),\n",
    "        ('macd2_period', 26),\n",
    "        ('macd_signal_period', 9),\n",
    "        ('rsi_period', 14),\n",
    "        ('stoch_period', 14),\n",
    "    )\n",
    "\n",
    "    def init(self):\n",
    "        self.macd = bt.indicators.MACD(\n",
    "            self.data,\n",
    "            period_me1=self.params.macd1_period,\n",
    "            period_me2=self.params.macd2_period,\n",
    "            period_signal=self.params.macd_signal_period\n",
    "        )\n",
    "        self.rsi = bt.indicators.RSI(self.data, period=self.params.rsi_period)\n",
    "        self.stoch = bt.indicators.Stochastic(self.data, period=self.params.stoch_period)\n",
    "\n",
    "    def next(self):\n",
    "        if self.macd.macd[0] > 0 and self.macd.macd[0] > self.macd.signal[0] and \\\n",
    "                self.rsi < 30 and self.stoch.lines.percK < 20:\n",
    "            # Buy signal\n",
    "            self.buy()\n",
    "\n",
    "        elif self.macd.macd[0] < 0 and self.macd.macd[0] < self.macd.signal[0] and \\\n",
    "                self.rsi > 70 and self.stoch.lines.percK > 80:\n",
    "            # Sell signal\n",
    "            self.sell()\n",
    "\n",
    "def run_backtest(data):\n",
    "    cerebro = bt.Cerebro()\n",
    "\n",
    "    cerebro.addstrategy(MACDRSIStrategy)\n",
    "\n",
    "    data = bt.feeds.PandasData(dataname=data)\n",
    "    cerebro.adddata(data)\n",
    "\n",
    "    cerebro.broker.setcash(100000)  # Set initial cash\n",
    "\n",
    "    print('Starting Portfolio Value: %.2f' % cerebro.broker.getvalue())\n",
    "\n",
    "    cerebro.run()\n",
    "\n",
    "    print('Final Portfolio Value: %.2f' % cerebro.broker.getvalue())\n",
    "\n",
    "    # Load your data here, for example using pandas\n",
    "    # data = load_your_data_function()\n",
    "\n",
    "    # Example data\n",
    "data = pd.read_csv('data/^ixic-60d.csv')\n",
    "data['Datetime'] = pd.to_datetime(data['Datetime'], utc=True)\n",
    "data.set_index('Datetime', inplace=True)\n",
    "run_backtest(data)\n"
   ]
  },
  {
   "cell_type": "code",
   "execution_count": null,
   "metadata": {},
   "outputs": [],
   "source": []
  }
 ],
 "metadata": {
  "kernelspec": {
   "display_name": "Python 3",
   "language": "python",
   "name": "python3"
  },
  "language_info": {
   "codemirror_mode": {
    "name": "ipython",
    "version": 3
   },
   "file_extension": ".py",
   "mimetype": "text/x-python",
   "name": "python",
   "nbconvert_exporter": "python",
   "pygments_lexer": "ipython3",
   "version": "3.11.4"
  }
 },
 "nbformat": 4,
 "nbformat_minor": 2
}
