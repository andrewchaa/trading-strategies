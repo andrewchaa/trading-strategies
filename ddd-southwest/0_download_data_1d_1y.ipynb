{
 "cells": [
  {
   "cell_type": "code",
   "execution_count": 1,
   "metadata": {},
   "outputs": [
    {
     "name": "stdout",
     "output_type": "stream",
     "text": [
      "                                   Open          High           Low  \\\n",
      "Date                                                                  \n",
      "2023-04-20 00:00:00-04:00  12039.080078  12155.959961  12011.950195   \n",
      "2023-04-21 00:00:00-04:00  12046.030273  12097.150391  11986.820312   \n",
      "2023-04-24 00:00:00-04:00  12053.469727  12103.580078  11960.299805   \n",
      "2023-04-25 00:00:00-04:00  11968.809570  11990.459961  11798.769531   \n",
      "2023-04-26 00:00:00-04:00  11913.230469  11967.990234  11833.070312   \n",
      "...                                 ...           ...           ...   \n",
      "2024-04-15 00:00:00-04:00  16276.469727  16295.269531  15863.879883   \n",
      "2024-04-16 00:00:00-04:00  15856.379883  15965.790039  15822.019531   \n",
      "2024-04-17 00:00:00-04:00  15942.290039  15957.030273  15654.509766   \n",
      "2024-04-18 00:00:00-04:00  15705.690430  15786.120117  15587.500000   \n",
      "2024-04-19 00:00:00-04:00  15547.099609  15576.700195  15222.780273   \n",
      "\n",
      "                                  Close      Volume  Dividends  Stock Splits  \n",
      "Date                                                                          \n",
      "2023-04-20 00:00:00-04:00  12059.559570  4590530000        0.0           0.0  \n",
      "2023-04-21 00:00:00-04:00  12072.459961  4868050000        0.0           0.0  \n",
      "2023-04-24 00:00:00-04:00  12037.200195  4854050000        0.0           0.0  \n",
      "2023-04-25 00:00:00-04:00  11799.160156  4806020000        0.0           0.0  \n",
      "2023-04-26 00:00:00-04:00  11854.349609  5281970000        0.0           0.0  \n",
      "...                                 ...         ...        ...           ...  \n",
      "2024-04-15 00:00:00-04:00  15885.019531  4910550000        0.0           0.0  \n",
      "2024-04-16 00:00:00-04:00  15865.250000  5001860000        0.0           0.0  \n",
      "2024-04-17 00:00:00-04:00  15683.370117  4991470000        0.0           0.0  \n",
      "2024-04-18 00:00:00-04:00  15601.500000  4932540000        0.0           0.0  \n",
      "2024-04-19 00:00:00-04:00  15282.009766  5316010000        0.0           0.0  \n",
      "\n",
      "[252 rows x 7 columns]\n"
     ]
    }
   ],
   "source": [
    "import yfinance as yf\n",
    "from datetime import date\n",
    "\n",
    "period='1y'\n",
    "interval='1d'\n",
    "tickerSymbol = '^IXIC'\n",
    "tickerData = yf.Ticker(tickerSymbol)\n",
    "tickerDf = tickerData.history(\n",
    "  # period='60d',\n",
    "  period=period,\n",
    "  interval=interval,\n",
    ")\n",
    "tickerDf = tickerDf[tickerDf.High != tickerDf.Low]\n",
    "\n",
    "print(tickerDf)\n",
    "tickerDf.to_csv(f\"../data/{tickerSymbol.lower()}-{interval}-{period}.csv\")"
   ]
  },
  {
   "cell_type": "code",
   "execution_count": null,
   "metadata": {},
   "outputs": [],
   "source": []
  }
 ],
 "metadata": {
  "kernelspec": {
   "display_name": "Python 3",
   "language": "python",
   "name": "python3"
  },
  "language_info": {
   "codemirror_mode": {
    "name": "ipython",
    "version": 3
   },
   "file_extension": ".py",
   "mimetype": "text/x-python",
   "name": "python",
   "nbconvert_exporter": "python",
   "pygments_lexer": "ipython3",
   "version": "3.11.4"
  }
 },
 "nbformat": 4,
 "nbformat_minor": 2
}
