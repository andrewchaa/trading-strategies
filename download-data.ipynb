{
 "cells": [
  {
   "cell_type": "code",
   "execution_count": 11,
   "metadata": {},
   "outputs": [
    {
     "name": "stdout",
     "output_type": "stream",
     "text": [
      "                                 Open        High         Low       Close  \\\n",
      "Datetime                                                                    \n",
      "2023-12-19 09:30:00-05:00  435.160004  437.480011  434.500000  436.179993   \n",
      "2023-12-19 09:45:00-05:00  436.160004  437.230011  435.540009  436.862488   \n",
      "2023-12-19 10:00:00-05:00  436.864990  438.450012  436.200012  438.450012   \n",
      "2023-12-19 10:15:00-05:00  438.505005  439.000000  438.429993  438.470001   \n",
      "2023-12-19 10:30:00-05:00  438.359985  438.649994  437.975006  438.649994   \n",
      "...                               ...         ...         ...         ...   \n",
      "2024-03-15 14:45:00-04:00  422.220001  422.329987  421.640015  421.899994   \n",
      "2024-03-15 15:00:00-04:00  421.890015  422.489990  421.709991  422.489990   \n",
      "2024-03-15 15:15:00-04:00  422.359985  422.790009  421.931488  422.420013   \n",
      "2024-03-15 15:30:00-04:00  422.505005  422.670013  422.054993  422.179993   \n",
      "2024-03-15 15:45:00-04:00  422.096588  423.190002  422.000000  422.730011   \n",
      "\n",
      "                           Volume  Dividends  Stock Splits  \n",
      "Datetime                                                    \n",
      "2023-12-19 09:30:00-05:00   92025        0.0           0.0  \n",
      "2023-12-19 09:45:00-05:00   64595        0.0           0.0  \n",
      "2023-12-19 10:00:00-05:00   24773        0.0           0.0  \n",
      "2023-12-19 10:15:00-05:00   24290        0.0           0.0  \n",
      "2023-12-19 10:30:00-05:00   19291        0.0           0.0  \n",
      "...                           ...        ...           ...  \n",
      "2024-03-15 14:45:00-04:00   28988        0.0           0.0  \n",
      "2024-03-15 15:00:00-04:00   24586        0.0           0.0  \n",
      "2024-03-15 15:15:00-04:00   43456        0.0           0.0  \n",
      "2024-03-15 15:30:00-04:00   37568        0.0           0.0  \n",
      "2024-03-15 15:45:00-04:00  185639        0.0           0.0  \n",
      "\n",
      "[1560 rows x 7 columns]\n"
     ]
    }
   ],
   "source": [
    "import yfinance as yf\n",
    "from datetime import date\n",
    "\n",
    "tickerSymbol = 'SPGI'\n",
    "tickerData = yf.Ticker(tickerSymbol)\n",
    "tickerDf = tickerData.history(\n",
    "  # period='60d',\n",
    "  period='6mo',\n",
    "  interval='1d',\n",
    ")\n",
    "tickerDf = tickerDf[tickerDf.High != tickerDf.Low]\n",
    "\n",
    "print(tickerDf)\n",
    "tickerDf.to_csv(f\"data/{tickerSymbol.lower()}.csv\")"
   ]
  },
  {
   "cell_type": "code",
   "execution_count": null,
   "metadata": {},
   "outputs": [],
   "source": []
  }
 ],
 "metadata": {
  "kernelspec": {
   "display_name": "Python 3",
   "language": "python",
   "name": "python3"
  },
  "language_info": {
   "codemirror_mode": {
    "name": "ipython",
    "version": 3
   },
   "file_extension": ".py",
   "mimetype": "text/x-python",
   "name": "python",
   "nbconvert_exporter": "python",
   "pygments_lexer": "ipython3",
   "version": "3.11.4"
  }
 },
 "nbformat": 4,
 "nbformat_minor": 2
}
