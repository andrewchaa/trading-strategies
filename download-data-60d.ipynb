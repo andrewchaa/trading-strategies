{
 "cells": [
  {
   "cell_type": "code",
   "execution_count": 1,
   "metadata": {},
   "outputs": [
    {
     "name": "stdout",
     "output_type": "stream",
     "text": [
      "                                 Open        High         Low       Close  \\\n",
      "Datetime                                                                    \n",
      "2023-12-26 09:30:00-05:00  434.510010  438.630005  434.510010  436.385010   \n",
      "2023-12-26 09:45:00-05:00  436.480011  436.600006  435.809998  436.483795   \n",
      "2023-12-26 10:00:00-05:00  436.434998  436.609985  436.140015  436.190002   \n",
      "2023-12-26 10:15:00-05:00  436.230011  436.274994  435.790009  436.274994   \n",
      "2023-12-26 10:30:00-05:00  436.345001  436.491608  435.619995  435.619995   \n",
      "...                               ...         ...         ...         ...   \n",
      "2024-03-20 15:45:00-04:00  425.567505  426.059998  424.970001  426.049988   \n",
      "2024-03-21 09:30:00-04:00  427.350006  427.772888  426.005005  427.380005   \n",
      "2024-03-21 09:45:00-04:00  427.380005  427.600006  426.114990  427.549988   \n",
      "2024-03-21 10:00:00-04:00  427.454987  428.079987  427.385010  427.755005   \n",
      "2024-03-21 10:15:00-04:00  427.850006  428.679993  427.725006  428.679993   \n",
      "\n",
      "                           Volume  Dividends  Stock Splits  \n",
      "Datetime                                                    \n",
      "2023-12-26 09:30:00-05:00   19824        0.0           0.0  \n",
      "2023-12-26 09:45:00-05:00    7140        0.0           0.0  \n",
      "2023-12-26 10:00:00-05:00    8957        0.0           0.0  \n",
      "2023-12-26 10:15:00-05:00    9063        0.0           0.0  \n",
      "2023-12-26 10:30:00-05:00   15862        0.0           0.0  \n",
      "...                           ...        ...           ...  \n",
      "2024-03-20 15:45:00-04:00  156353        0.0           0.0  \n",
      "2024-03-21 09:30:00-04:00   59331        0.0           0.0  \n",
      "2024-03-21 09:45:00-04:00   71071        0.0           0.0  \n",
      "2024-03-21 10:00:00-04:00   54948        0.0           0.0  \n",
      "2024-03-21 10:15:00-04:00   45334        0.0           0.0  \n",
      "\n",
      "[1538 rows x 7 columns]\n"
     ]
    }
   ],
   "source": [
    "import yfinance as yf\n",
    "from datetime import date\n",
    "\n",
    "tickerSymbol = 'SPGI'\n",
    "tickerData = yf.Ticker(tickerSymbol)\n",
    "tickerDf = tickerData.history(\n",
    "  period='60d',\n",
    "  interval='15m',\n",
    ")\n",
    "tickerDf = tickerDf[tickerDf.High != tickerDf.Low]\n",
    "\n",
    "print(tickerDf)\n",
    "tickerDf.to_csv(f\"data/{tickerSymbol.lower()}-60d.csv\")"
   ]
  },
  {
   "cell_type": "code",
   "execution_count": null,
   "metadata": {},
   "outputs": [],
   "source": []
  }
 ],
 "metadata": {
  "kernelspec": {
   "display_name": "Python 3",
   "language": "python",
   "name": "python3"
  },
  "language_info": {
   "codemirror_mode": {
    "name": "ipython",
    "version": 3
   },
   "file_extension": ".py",
   "mimetype": "text/x-python",
   "name": "python",
   "nbconvert_exporter": "python",
   "pygments_lexer": "ipython3",
   "version": "3.11.4"
  }
 },
 "nbformat": 4,
 "nbformat_minor": 2
}
