{
 "cells": [
  {
   "cell_type": "code",
   "execution_count": 1,
   "metadata": {},
   "outputs": [
    {
     "name": "stdout",
     "output_type": "stream",
     "text": [
      "                               Open      High       Low     Close  Volume  \\\n",
      "Datetime                                                                    \n",
      "2023-04-24 00:00:00+01:00  1.244679  1.245221  1.244540  1.244834       0   \n",
      "2023-04-24 01:00:00+01:00  1.244632  1.244834  1.243874  1.244834       0   \n",
      "2023-04-24 02:00:00+01:00  1.244725  1.245097  1.243889  1.243889       0   \n",
      "2023-04-24 03:00:00+01:00  1.244245  1.244694  1.243611  1.243781       0   \n",
      "2023-04-24 04:00:00+01:00  1.243750  1.244183  1.243132  1.243580       0   \n",
      "...                             ...       ...       ...       ...     ...   \n",
      "2024-04-22 05:00:00+01:00  1.238191  1.239081  1.238191  1.238666       0   \n",
      "2024-04-22 06:00:00+01:00  1.238682  1.238712  1.238099  1.238436       0   \n",
      "2024-04-22 07:00:00+01:00  1.238405  1.238728  1.237608  1.238191       0   \n",
      "2024-04-22 08:00:00+01:00  1.238237  1.238482  1.235254  1.236874       0   \n",
      "2024-04-22 09:00:00+01:00  1.236767  1.237118  1.236002  1.236552       0   \n",
      "\n",
      "                           Dividends  Stock Splits  \n",
      "Datetime                                            \n",
      "2023-04-24 00:00:00+01:00        0.0           0.0  \n",
      "2023-04-24 01:00:00+01:00        0.0           0.0  \n",
      "2023-04-24 02:00:00+01:00        0.0           0.0  \n",
      "2023-04-24 03:00:00+01:00        0.0           0.0  \n",
      "2023-04-24 04:00:00+01:00        0.0           0.0  \n",
      "...                              ...           ...  \n",
      "2024-04-22 05:00:00+01:00        0.0           0.0  \n",
      "2024-04-22 06:00:00+01:00        0.0           0.0  \n",
      "2024-04-22 07:00:00+01:00        0.0           0.0  \n",
      "2024-04-22 08:00:00+01:00        0.0           0.0  \n",
      "2024-04-22 09:00:00+01:00        0.0           0.0  \n",
      "\n",
      "[6120 rows x 7 columns]\n"
     ]
    }
   ],
   "source": [
    "import yfinance as yf\n",
    "from datetime import date\n",
    "\n",
    "period='1y'\n",
    "interval='1h'\n",
    "tickerSymbol = 'GBPUSD=X'\n",
    "tickerData = yf.Ticker(tickerSymbol)\n",
    "tickerDf = tickerData.history(\n",
    "  # period='60d',\n",
    "  period=period,\n",
    "  interval=interval,\n",
    ")\n",
    "tickerDf = tickerDf[tickerDf.High != tickerDf.Low]\n",
    "\n",
    "print(tickerDf)\n",
    "tickerDf.to_csv(f\"../data/{tickerSymbol.lower()}-{period}-{interval}.csv\")"
   ]
  },
  {
   "cell_type": "code",
   "execution_count": null,
   "metadata": {},
   "outputs": [],
   "source": []
  }
 ],
 "metadata": {
  "kernelspec": {
   "display_name": "Python 3",
   "language": "python",
   "name": "python3"
  },
  "language_info": {
   "codemirror_mode": {
    "name": "ipython",
    "version": 3
   },
   "file_extension": ".py",
   "mimetype": "text/x-python",
   "name": "python",
   "nbconvert_exporter": "python",
   "pygments_lexer": "ipython3",
   "version": "3.11.4"
  }
 },
 "nbformat": 4,
 "nbformat_minor": 2
}
