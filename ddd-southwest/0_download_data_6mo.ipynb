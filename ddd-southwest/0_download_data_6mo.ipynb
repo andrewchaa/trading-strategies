{
 "cells": [
  {
   "cell_type": "code",
   "execution_count": 2,
   "metadata": {},
   "outputs": [
    {
     "name": "stdout",
     "output_type": "stream",
     "text": [
      "                                   Open          High           Low  \\\n",
      "Datetime                                                              \n",
      "2023-10-18 09:30:00-04:00  13439.915039  13499.502930  13421.323242   \n",
      "2023-10-18 10:30:00-04:00  13448.098633  13448.301758  13386.589844   \n",
      "2023-10-18 11:30:00-04:00  13415.466797  13447.771484  13394.423828   \n",
      "2023-10-18 12:30:00-04:00  13397.604492  13439.089844  13359.598633   \n",
      "2023-10-18 13:30:00-04:00  13419.489258  13419.581055  13355.813477   \n",
      "...                                 ...           ...           ...   \n",
      "2024-04-17 11:30:00-04:00  15783.606445  15783.606445  15705.765625   \n",
      "2024-04-17 12:30:00-04:00  15713.811523  15741.323242  15654.822266   \n",
      "2024-04-17 13:30:00-04:00  15744.334961  15773.291016  15731.041992   \n",
      "2024-04-17 14:30:00-04:00  15749.591797  15814.849609  15689.807617   \n",
      "2024-04-17 15:30:00-04:00  15691.283203  15733.230469  15682.182617   \n",
      "\n",
      "                                  Close     Volume  Dividends  Stock Splits  \n",
      "Datetime                                                                     \n",
      "2023-10-18 09:30:00-04:00  13451.814453          0        0.0           0.0  \n",
      "2023-10-18 10:30:00-04:00  13415.507812  556126000        0.0           0.0  \n",
      "2023-10-18 11:30:00-04:00  13398.106445  375832000        0.0           0.0  \n",
      "2023-10-18 12:30:00-04:00  13418.132812  345898000        0.0           0.0  \n",
      "2023-10-18 13:30:00-04:00  13379.012695  319948000        0.0           0.0  \n",
      "...                                 ...        ...        ...           ...  \n",
      "2024-04-17 11:30:00-04:00  15715.237305  493769000        0.0           0.0  \n",
      "2024-04-17 12:30:00-04:00  15741.280273  433089000        0.0           0.0  \n",
      "2024-04-17 13:30:00-04:00  15748.874023  399527000        0.0           0.0  \n",
      "2024-04-17 14:30:00-04:00  15689.807617  425274000        0.0           0.0  \n",
      "2024-04-17 15:30:00-04:00  15683.372070  428879000        0.0           0.0  \n",
      "\n",
      "[871 rows x 7 columns]\n"
     ]
    }
   ],
   "source": [
    "import yfinance as yf\n",
    "from datetime import date\n",
    "\n",
    "period='6mo'\n",
    "interval='1h'\n",
    "tickerSymbol = '^IXIC'\n",
    "tickerData = yf.Ticker(tickerSymbol)\n",
    "tickerDf = tickerData.history(\n",
    "  # period='60d',\n",
    "  period=period,\n",
    "  interval=interval,\n",
    ")\n",
    "tickerDf = tickerDf[tickerDf.High != tickerDf.Low]\n",
    "\n",
    "print(tickerDf)\n",
    "tickerDf.to_csv(f\"../data/{tickerSymbol.lower()}-{period}-{interval}.csv\")"
   ]
  },
  {
   "cell_type": "code",
   "execution_count": null,
   "metadata": {},
   "outputs": [],
   "source": []
  }
 ],
 "metadata": {
  "kernelspec": {
   "display_name": "Python 3",
   "language": "python",
   "name": "python3"
  },
  "language_info": {
   "codemirror_mode": {
    "name": "ipython",
    "version": 3
   },
   "file_extension": ".py",
   "mimetype": "text/x-python",
   "name": "python",
   "nbconvert_exporter": "python",
   "pygments_lexer": "ipython3",
   "version": "3.11.4"
  }
 },
 "nbformat": 4,
 "nbformat_minor": 2
}
