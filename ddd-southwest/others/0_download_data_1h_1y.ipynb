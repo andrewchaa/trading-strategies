{
 "cells": [
  {
   "cell_type": "code",
   "execution_count": 1,
   "metadata": {},
   "outputs": [
    {
     "name": "stdout",
     "output_type": "stream",
     "text": [
      "                                   Open          High           Low  \\\n",
      "Datetime                                                              \n",
      "2023-04-20 09:30:00-04:00  12039.096680  12122.727539  12039.096680   \n",
      "2023-04-20 10:30:00-04:00  12112.754883  12130.212891  12077.960938   \n",
      "2023-04-20 11:30:00-04:00  12094.689453  12114.124023  12081.461914   \n",
      "2023-04-20 12:30:00-04:00  12112.006836  12155.889648  12109.030273   \n",
      "2023-04-20 13:30:00-04:00  12152.539062  12155.239258  12082.914062   \n",
      "...                                 ...           ...           ...   \n",
      "2024-04-19 11:30:00-04:00  15431.418945  15446.855469  15313.109375   \n",
      "2024-04-19 12:30:00-04:00  15312.722656  15401.906250  15312.081055   \n",
      "2024-04-19 13:30:00-04:00  15362.106445  15425.594727  15311.298828   \n",
      "2024-04-19 14:30:00-04:00  15308.803711  15323.899414  15235.889648   \n",
      "2024-04-19 15:30:00-04:00  15280.984375  15291.751953  15223.747070   \n",
      "\n",
      "                                  Close     Volume  Dividends  Stock Splits  \n",
      "Datetime                                                                     \n",
      "2023-04-20 09:30:00-04:00  12110.858398          0        0.0           0.0  \n",
      "2023-04-20 10:30:00-04:00  12094.939453  529022000        0.0           0.0  \n",
      "2023-04-20 11:30:00-04:00  12112.148438  436535000        0.0           0.0  \n",
      "2023-04-20 12:30:00-04:00  12151.598633  320860000        0.0           0.0  \n",
      "2023-04-20 13:30:00-04:00  12083.585938  351419000        0.0           0.0  \n",
      "...                                 ...        ...        ...           ...  \n",
      "2024-04-19 11:30:00-04:00  15313.916992  520939000        0.0           0.0  \n",
      "2024-04-19 12:30:00-04:00  15361.449219  405837000        0.0           0.0  \n",
      "2024-04-19 13:30:00-04:00  15311.298828  377940000        0.0           0.0  \n",
      "2024-04-19 14:30:00-04:00  15282.343750  466073000        0.0           0.0  \n",
      "2024-04-19 15:30:00-04:00  15282.009766  473072000        0.0           0.0  \n",
      "\n",
      "[1756 rows x 7 columns]\n"
     ]
    }
   ],
   "source": [
    "import yfinance as yf\n",
    "from datetime import date\n",
    "\n",
    "period='1y'\n",
    "interval='1h'\n",
    "tickerSymbol = '^IXIC'\n",
    "tickerData = yf.Ticker(tickerSymbol)\n",
    "tickerDf = tickerData.history(\n",
    "  # period='60d',\n",
    "  period=period,\n",
    "  interval=interval,\n",
    ")\n",
    "tickerDf = tickerDf[tickerDf.High != tickerDf.Low]\n",
    "\n",
    "print(tickerDf)\n",
    "tickerDf.to_csv(f\"../data/{tickerSymbol.lower()}-{period}-{interval}.csv\")"
   ]
  },
  {
   "cell_type": "code",
   "execution_count": null,
   "metadata": {},
   "outputs": [],
   "source": []
  }
 ],
 "metadata": {
  "kernelspec": {
   "display_name": "Python 3",
   "language": "python",
   "name": "python3"
  },
  "language_info": {
   "codemirror_mode": {
    "name": "ipython",
    "version": 3
   },
   "file_extension": ".py",
   "mimetype": "text/x-python",
   "name": "python",
   "nbconvert_exporter": "python",
   "pygments_lexer": "ipython3",
   "version": "3.11.4"
  }
 },
 "nbformat": 4,
 "nbformat_minor": 2
}
