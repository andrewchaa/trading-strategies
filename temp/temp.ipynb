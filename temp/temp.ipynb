{
 "cells": [
  {
   "cell_type": "code",
   "execution_count": 1,
   "metadata": {},
   "outputs": [
    {
     "name": "stderr",
     "output_type": "stream",
     "text": [
      "/Users/andrew/.pyenv/versions/3.11.4/lib/python3.11/site-packages/backtesting/test/__init__.py:8: FutureWarning: The argument 'infer_datetime_format' is deprecated and will be removed in a future version. A strict version of it is now the default, see https://pandas.pydata.org/pdeps/0004-consistent-to-datetime-parsing.html. You can safely remove this argument.\n",
      "  return pd.read_csv(join(dirname(__file__), filename),\n",
      "/Users/andrew/.pyenv/versions/3.11.4/lib/python3.11/site-packages/backtesting/test/__init__.py:8: FutureWarning: The argument 'infer_datetime_format' is deprecated and will be removed in a future version. A strict version of it is now the default, see https://pandas.pydata.org/pdeps/0004-consistent-to-datetime-parsing.html. You can safely remove this argument.\n",
      "  return pd.read_csv(join(dirname(__file__), filename),\n"
     ]
    },
    {
     "ename": "AttributeError",
     "evalue": "type object 'MACDRSIStochStrategy' has no attribute 'backtest'",
     "output_type": "error",
     "traceback": [
      "\u001b[0;31m---------------------------------------------------------------------------\u001b[0m",
      "\u001b[0;31mAttributeError\u001b[0m                            Traceback (most recent call last)",
      "Cell \u001b[0;32mIn[1], line 35\u001b[0m\n\u001b[1;32m     32\u001b[0m data \u001b[38;5;241m=\u001b[39m GOOG\n\u001b[1;32m     34\u001b[0m \u001b[38;5;66;03m# Run the backtest\u001b[39;00m\n\u001b[0;32m---> 35\u001b[0m backtest \u001b[38;5;241m=\u001b[39m \u001b[43mstrategy\u001b[49m\u001b[38;5;241;43m.\u001b[39;49m\u001b[43mbacktest\u001b[49m(data)\n\u001b[1;32m     37\u001b[0m \u001b[38;5;66;03m# Print the backtest results\u001b[39;00m\n\u001b[1;32m     38\u001b[0m \u001b[38;5;28mprint\u001b[39m(backtest\u001b[38;5;241m.\u001b[39mget_stats())\n",
      "\u001b[0;31mAttributeError\u001b[0m: type object 'MACDRSIStochStrategy' has no attribute 'backtest'"
     ]
    }
   ],
   "source": [
    "import backtesting\n",
    "import pandas as pd\n",
    "from backtesting import Strategy\n",
    "from backtesting.lib import crossover\n",
    "from backtesting.test import GOOG\n",
    "\n",
    "# Define the trading strategy function\n",
    "class MACDRSIStochStrategy(Strategy):\n",
    "    n1, n2, n3 = 12, 26, 9\n",
    "    rsi_periods = 14\n",
    "    stoch_periods = 14\n",
    "\n",
    "    def init(self):\n",
    "        self.macd = self.I(lambda: backtesting.lib.MACD(\n",
    "            self.data.Close, self.n1, self.n2, self.n3))\n",
    "        self.rsi = self.I(lambda: backtesting.lib.RSI(\n",
    "            self.data.Close, self.rsi_periods))\n",
    "        self.stoch = self.I(lambda: backtesting.lib.STOCH(\n",
    "            self.data.High, self.data.Low, self.data.Close, self.stoch_periods))\n",
    "\n",
    "    def next(self):\n",
    "        if crossover(self.macd.macd, self.macd.signal):\n",
    "            if self.rsi > 70 and self.stoch.k > 80:\n",
    "                self.sell()\n",
    "            elif self.rsi < 30 and self.stoch.k < 20:\n",
    "                self.buy()\n",
    "\n",
    "# Create a Strategy object\n",
    "strategy = MACDRSIStochStrategy\n",
    "\n",
    "# Load historical data\n",
    "data = GOOG\n",
    "\n",
    "# Run the backtest\n",
    "backtest = strategy.run(data)\n",
    "\n",
    "# Print the backtest results\n",
    "print(backtest.get_stats())"
   ]
  },
  {
   "cell_type": "code",
   "execution_count": null,
   "metadata": {},
   "outputs": [],
   "source": []
  }
 ],
 "metadata": {
  "kernelspec": {
   "display_name": "Python 3",
   "language": "python",
   "name": "python3"
  },
  "language_info": {
   "codemirror_mode": {
    "name": "ipython",
    "version": 3
   },
   "file_extension": ".py",
   "mimetype": "text/x-python",
   "name": "python",
   "nbconvert_exporter": "python",
   "pygments_lexer": "ipython3",
   "version": "3.11.4"
  }
 },
 "nbformat": 4,
 "nbformat_minor": 2
}
