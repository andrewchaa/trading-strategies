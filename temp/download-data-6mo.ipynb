{
 "cells": [
  {
   "cell_type": "code",
   "execution_count": 12,
   "metadata": {},
   "outputs": [
    {
     "name": "stdout",
     "output_type": "stream",
     "text": [
      "                                 Open        High         Low       Close  \\\n",
      "Date                                                                        \n",
      "2023-09-18 00:00:00-04:00  385.329232  389.561212  384.691932  387.868408   \n",
      "2023-09-19 00:00:00-04:00  386.324987  388.216925  385.000640  387.659302   \n",
      "2023-09-20 00:00:00-04:00  388.366297  390.457399  384.184123  384.602325   \n",
      "2023-09-21 00:00:00-04:00  382.013362  383.367580  370.582026  370.731384   \n",
      "2023-09-22 00:00:00-04:00  370.990287  374.306155  369.496647  370.114014   \n",
      "...                               ...         ...         ...         ...   \n",
      "2024-03-11 00:00:00-04:00  427.000000  428.690002  423.290009  426.679993   \n",
      "2024-03-12 00:00:00-04:00  429.320007  430.730011  426.149994  428.609985   \n",
      "2024-03-13 00:00:00-04:00  428.290009  430.170013  426.679993  428.029999   \n",
      "2024-03-14 00:00:00-04:00  426.720001  428.100006  421.059998  423.470001   \n",
      "2024-03-15 00:00:00-04:00  420.029999  424.519989  418.649994  422.809998   \n",
      "\n",
      "                            Volume  Dividends  Stock Splits  \n",
      "Date                                                         \n",
      "2023-09-18 00:00:00-04:00   638300        0.0           0.0  \n",
      "2023-09-19 00:00:00-04:00   849000        0.0           0.0  \n",
      "2023-09-20 00:00:00-04:00   773500        0.0           0.0  \n",
      "2023-09-21 00:00:00-04:00  1078900        0.0           0.0  \n",
      "2023-09-22 00:00:00-04:00  1159300        0.0           0.0  \n",
      "...                            ...        ...           ...  \n",
      "2024-03-11 00:00:00-04:00   987300        0.0           0.0  \n",
      "2024-03-12 00:00:00-04:00  1005600        0.0           0.0  \n",
      "2024-03-13 00:00:00-04:00   750100        0.0           0.0  \n",
      "2024-03-14 00:00:00-04:00  1296000        0.0           0.0  \n",
      "2024-03-15 00:00:00-04:00  2467000        0.0           0.0  \n",
      "\n",
      "[125 rows x 7 columns]\n"
     ]
    }
   ],
   "source": [
    "import yfinance as yf\n",
    "from datetime import date\n",
    "\n",
    "tickerSymbol = 'SPGI'\n",
    "tickerData = yf.Ticker(tickerSymbol)\n",
    "tickerDf = tickerData.history(\n",
    "  # period='60d',\n",
    "  period='6mo',\n",
    "  interval='1d',\n",
    ")\n",
    "tickerDf = tickerDf[tickerDf.High != tickerDf.Low]\n",
    "\n",
    "print(tickerDf)\n",
    "tickerDf.to_csv(f\"data/{tickerSymbol.lower()}.csv\")"
   ]
  },
  {
   "cell_type": "code",
   "execution_count": null,
   "metadata": {},
   "outputs": [],
   "source": []
  }
 ],
 "metadata": {
  "kernelspec": {
   "display_name": "Python 3",
   "language": "python",
   "name": "python3"
  },
  "language_info": {
   "codemirror_mode": {
    "name": "ipython",
    "version": 3
   },
   "file_extension": ".py",
   "mimetype": "text/x-python",
   "name": "python",
   "nbconvert_exporter": "python",
   "pygments_lexer": "ipython3",
   "version": "3.11.4"
  }
 },
 "nbformat": 4,
 "nbformat_minor": 2
}
